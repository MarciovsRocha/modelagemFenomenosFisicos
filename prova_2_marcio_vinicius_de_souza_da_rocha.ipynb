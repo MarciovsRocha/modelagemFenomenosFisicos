{
 "cells": [
  {
   "cell_type": "markdown",
   "metadata": {},
   "source": [
    "# Prova 02 ModFenFis\n",
    "_Marcio Vinicius de Souza da Rocha_"
   ]
  },
  {
   "cell_type": "markdown",
   "metadata": {},
   "source": [
    "## *Questão 1 - Por meio de um raciocínio ou cálculo mostre que* $$\\int_{a}^{c} f(x) dx = \\int_{a}^{b} f(x) dx + \\int_{b}^{c} f(x) dx$$"
   ]
  },
  {
   "cell_type": "markdown",
   "metadata": {},
   "source": [
    "considerando que as integrais definidas ($\\int_{a}^{b}$ e $\\int_{b}^{c}$) são áreas, assumindo os pontos $a < b < c $ tal que $a,b,c > 0$, então a soma das áreas de $a \\rightarrow b$ e $b \\rightarrow c$ é igual a área de $a \\rightarrow c$. "
   ]
  },
  {
   "cell_type": "markdown",
   "metadata": {},
   "source": [
    "## Questão 2 - Escreva uma regra geral para determinar a devirada de ordem n de $$f(x) = e^{2x}+sin(2x)$$ use a regra geral para determinar a derivada $f^{(29)}(x)$"
   ]
  },
  {
   "cell_type": "code",
   "execution_count": 5,
   "metadata": {},
   "outputs": [
    {
     "data": {
      "text/latex": [
       "$\\displaystyle 2 e^{2 x} + 2 \\cos{\\left(2 x \\right)}$"
      ],
      "text/plain": [
       "2*exp(2*x) + 2*cos(2*x)"
      ]
     },
     "execution_count": 5,
     "metadata": {},
     "output_type": "execute_result"
    }
   ],
   "source": [
    "from sympy import *\n",
    "x = Symbol('x')\n",
    "f = lambda x: exp(2*x)+sin(2*x)\n",
    "diff(f(x))"
   ]
  },
  {
   "cell_type": "code",
   "execution_count": 6,
   "metadata": {},
   "outputs": [
    {
     "data": {
      "text/latex": [
       "$\\displaystyle 4 e^{2 x} - 4 \\sin{\\left(2 x \\right)}$"
      ],
      "text/plain": [
       "4*exp(2*x) - 4*sin(2*x)"
      ]
     },
     "execution_count": 6,
     "metadata": {},
     "output_type": "execute_result"
    }
   ],
   "source": [
    "diff(diff(f(x)))"
   ]
  },
  {
   "cell_type": "code",
   "execution_count": 11,
   "metadata": {},
   "outputs": [
    {
     "data": {
      "text/latex": [
       "$\\displaystyle 8 e^{2 x} - 8 \\cos{\\left(2 x \\right)}$"
      ],
      "text/plain": [
       "8*exp(2*x) - 8*cos(2*x)"
      ]
     },
     "execution_count": 11,
     "metadata": {},
     "output_type": "execute_result"
    }
   ],
   "source": [
    "diff(diff(diff(f(x))))"
   ]
  },
  {
   "cell_type": "code",
   "execution_count": 14,
   "metadata": {},
   "outputs": [
    {
     "data": {
      "text/latex": [
       "$\\displaystyle 16 e^{2 x} + 16 \\sin{\\left(2 x \\right)}$"
      ],
      "text/plain": [
       "16*exp(2*x) + 16*sin(2*x)"
      ]
     },
     "execution_count": 14,
     "metadata": {},
     "output_type": "execute_result"
    }
   ],
   "source": [
    "diff(diff(diff(diff(f(x)))))"
   ]
  },
  {
   "cell_type": "code",
   "execution_count": 15,
   "metadata": {},
   "outputs": [
    {
     "data": {
      "text/latex": [
       "$\\displaystyle 32 e^{2 x} + 32 \\cos{\\left(2 x \\right)}$"
      ],
      "text/plain": [
       "32*exp(2*x) + 32*cos(2*x)"
      ]
     },
     "execution_count": 15,
     "metadata": {},
     "output_type": "execute_result"
    }
   ],
   "source": [
    "diff(diff(diff(diff(diff(f(x))))))"
   ]
  },
  {
   "cell_type": "code",
   "execution_count": 16,
   "metadata": {},
   "outputs": [
    {
     "data": {
      "text/latex": [
       "$\\displaystyle 64 e^{2 x} - 64 \\sin{\\left(2 x \\right)}$"
      ],
      "text/plain": [
       "64*exp(2*x) - 64*sin(2*x)"
      ]
     },
     "execution_count": 16,
     "metadata": {},
     "output_type": "execute_result"
    }
   ],
   "source": [
    "diff(diff(diff(diff(diff(diff(f(x)))))))"
   ]
  },
  {
   "cell_type": "markdown",
   "metadata": {},
   "source": [
    "### Resposta para questão 2:\n",
    "_de acordo com os experimentos acima podemos constatar:_\n",
    "$2^n * e^{2x} + \\frac{d}{dx}sin(2x)*2^{n}$, colocando $2^{n}$ em evidência obtemos: $2^{n}(exp(2x)+\\frac{d}{dx}sin(2x))$, em que $n$ é a ordem da derivada"
   ]
  },
  {
   "cell_type": "markdown",
   "metadata": {},
   "source": [
    "então: $f^{(29)}(x)$\n",
    "\n",
    "$2^{29} \\times (e^{2x} + \\frac{d}{dx}sin(2x))$\n",
    "\n",
    "$(2^{29} \\times e^{2x})+(2^{29} \\times sin(2x))$\n",
    "\n",
    "_a derivada de ordem 29 de sin(2x) é o próprio sin(2x)_"
   ]
  },
  {
   "cell_type": "markdown",
   "metadata": {},
   "source": [
    "## Questão 3 - Utilizando um gráfico, faça um estudo dos intervalos em que a função $f(x)$ a seguir é ***crescente*** ou ***decrescente***. Sabendo que quando a derivada da função $f(x)$ é nula, $f(x)$ possui um ***máximo***, ou um ***mínimo*** ou ***ponto de inflexão***, determine quais valores de $x$ a função a seguir possui pontos críticos. $$f(x) = x^3 + 2x^2 - x - 2$$"
   ]
  },
  {
   "cell_type": "code",
   "execution_count": 153,
   "metadata": {},
   "outputs": [
    {
     "data": {
      "image/png": "[encoded data removed]",
      "text/plain": [
       "<Figure size 432x288 with 1 Axes>"
      ]
     },
     "metadata": {
      "needs_background": "light"
     },
     "output_type": "display_data"
    }
   ],
   "source": [
    "import numpy as np\n",
    "from matplotlib import pyplot as plt\n",
    "from sympy import *\n",
    "# espaco amostral\n",
    "X = np.linspace(-5,5,10000)\n",
    "\n",
    "# funcao\n",
    "f = lambda x: ((x**3)+(2*x**2) - x - 2)\n",
    "Y = [f(x) for x in X ]\n",
    "\n",
    "# funcao derivada\n",
    "dfx = lambda x: 3*x**2 + 4*x - 1\n",
    "Yl = list(map(dfx,X))\n",
    "\n",
    "\n",
    "plt.grid(True, linestyle=\"-.\")\n",
    "plt.plot(X,Y)\n",
    "plt.plot(X,Yl)\n",
    "\n",
    "## calculos de inflexao, maximo e minimo abaixo do grafico\n",
    "plt.annotate('5,291', xy=(3,100))\n",
    "plt.annotate('-5,291', xy=(-4,-45))\n",
    "plt.annotate('0.666', xy=(0,15))\n",
    "\n",
    "plt.show()"
   ]
  },
  {
   "cell_type": "code",
   "execution_count": 155,
   "metadata": {},
   "outputs": [
    {
     "data": {
      "text/latex": [
       "$\\displaystyle 3 x^{2} + 4 x - 1$"
      ],
      "text/plain": [
       "3*x**2 + 4*x - 1"
      ]
     },
     "execution_count": 155,
     "metadata": {},
     "output_type": "execute_result"
    }
   ],
   "source": [
    "diff(f(x))"
   ]
  },
  {
   "cell_type": "markdown",
   "metadata": {},
   "source": [
    "$x' =$ $-b + \\sqrt{b^2-4ac} \\over 2a $$\\rightarrow$ $x' =$ $-4+\\sqrt{28} \\over 6 $"
   ]
  },
  {
   "cell_type": "code",
   "execution_count": 135,
   "metadata": {},
   "outputs": [],
   "source": [
    "x_1 = (-4+28**0.5)/6"
   ]
  },
  {
   "cell_type": "code",
   "execution_count": 136,
   "metadata": {},
   "outputs": [],
   "source": [
    "x_2 = (-4-28**0.5)/6"
   ]
  },
  {
   "cell_type": "markdown",
   "metadata": {},
   "source": [
    "$x'=0.21525043702153024$\n",
    "\n",
    "$x''=-1.5485837703548635$"
   ]
  },
  {
   "cell_type": "code",
   "execution_count": 134,
   "metadata": {},
   "outputs": [
    {
     "data": {
      "text/latex": [
       "$\\displaystyle 6 x + 4$"
      ],
      "text/plain": [
       "6*x + 4"
      ]
     },
     "execution_count": 134,
     "metadata": {},
     "output_type": "execute_result"
    }
   ],
   "source": [
    "diff(diff(f(x)))"
   ]
  },
  {
   "cell_type": "code",
   "execution_count": 140,
   "metadata": {},
   "outputs": [
    {
     "name": "stdout",
     "output_type": "stream",
     "text": [
      "5.291502622129181\n",
      "-5.291502622129181\n"
     ]
    }
   ],
   "source": [
    "d2 = lambda x: 6*x+4\n",
    "# x do ponto maximo \n",
    "print(d2(x_1)) # x do ponto minimo\n",
    "print(d2(x_2)) # x do ponto maximo"
   ]
  },
  {
   "cell_type": "markdown",
   "metadata": {},
   "source": [
    "### X do ponto de inflexão\n",
    "\n",
    "$6x+4=0$\n",
    "\n",
    "$x = $$-4 \\over 6$"
   ]
  },
  {
   "cell_type": "code",
   "execution_count": 143,
   "metadata": {},
   "outputs": [
    {
     "name": "stdout",
     "output_type": "stream",
     "text": [
      " O ponto de inflexao eh no x=-0.6666666666666666 \n",
      " O ponto maximo eh no x=-5.291502622129181 \n",
      " O ponto minimo eh no x=5.291502622129181\n"
     ]
    }
   ],
   "source": [
    "x_inf = -4/6\n",
    "x_max = d2(x_2)\n",
    "x_min = d2(x_1)\n",
    "print(f' O ponto de inflexao eh no x={x_inf} \\n O ponto maximo eh no x={x_max} \\n O ponto minimo eh no x={x_min}')"
   ]
  },
  {
   "cell_type": "markdown",
   "metadata": {},
   "source": [
    "## Questão 4 - Escreva uma função em Python que implemente a Soma de Riemann de $f(x): \\mathbb{R} \\rightarrow \\mathbb{R}$ no intervalo $[a,b]$. Utilize a sua função para calcular a integral definida a seguir por meio do limite da Soma de Riemann quando $n \\rightarrow \\infty$ $$\\int_{-2}^{5}e^{3x}dx$$"
   ]
  },
  {
   "cell_type": "code",
   "execution_count": null,
   "metadata": {},
   "outputs": [],
   "source": []
  },
  {
   "cell_type": "code",
   "execution_count": 96,
   "metadata": {},
   "outputs": [],
   "source": [
    "func = lambda x: exp(3*x)\n",
    "\n",
    "def riem_sum(f, a, b, n=10000):\n",
    "    x = ((b-a)/n)\n",
    "    v = [f(a+k*x)*x for k in range(n+1)]\n",
    "    soma = sum(v)\n",
    "    return soma\n",
    "        "
   ]
  },
  {
   "cell_type": "code",
   "execution_count": 97,
   "metadata": {},
   "outputs": [
    {
     "data": {
      "text/latex": [
       "$\\displaystyle 1090817.01320028$"
      ],
      "text/plain": [
       "1090817.01320028"
      ]
     },
     "execution_count": 97,
     "metadata": {},
     "output_type": "execute_result"
    }
   ],
   "source": [
    "riem_sum(func,-2,5)"
   ]
  }
 ],
 "metadata": {
  "kernelspec": {
   "display_name": "Python 3.8.1 64-bit",
   "language": "python",
   "name": "python38164bit5d0634aa68f54798bd2db250ce9ee573"
  },
  "language_info": {
   "codemirror_mode": {
    "name": "ipython",
    "version": 3
   },
   "file_extension": ".py",
   "mimetype": "text/x-python",
   "name": "python",
   "nbconvert_exporter": "python",
   "pygments_lexer": "ipython3",
   "version": "3.8.3"
  }
 },
 "nbformat": 4,
 "nbformat_minor": 4
}
