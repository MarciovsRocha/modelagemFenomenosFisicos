{
 "cells": [
  {
   "cell_type": "markdown",
   "metadata": {},
   "source": [
    "# Primeira Avaliação 15/05/2020\n",
    "\n",
    "**Bacharelado em Ciência da Computação**\n",
    "\n",
    "**Modelagem de Fenômenos Físicos**\n",
    "\n",
    "**Aluno: Marcio Vinicius de Souza da Rocha**\n"
   ]
  },
  {
   "cell_type": "markdown",
   "metadata": {},
   "source": [
    "## Questão 1\n",
    "\n",
    "### Escreva uma função em python para computar o valor da função abaixo, caso $x$ receba um valor não permitido emitir uma mensagem de erro. $$ f(x) = \\frac{1}{\\sqrt{2-x}}$$"
   ]
  },
  {
   "cell_type": "code",
   "execution_count": 4,
   "metadata": {},
   "outputs": [
    {
     "name": "stdout",
     "output_type": "stream",
     "text": [
      "o resultado eh: 0.1386750490563073\n"
     ]
    }
   ],
   "source": [
    "import math\n",
    "def exercicio1(x):\n",
    "    if (x >= 2):\n",
    "        return 0\n",
    "    else:\n",
    "        result = (1/(math.sqrt(2-x)))\n",
    "        return result\n",
    "\n",
    "x = -50 # variavel com o valor a ser calculado\n",
    "    \n",
    "if (exercicio1(x) == 0):\n",
    "    print('O valor inserido nao eh permitido')\n",
    "else:\n",
    "    print(f'o resultado eh: {exercicio1(x)}')"
   ]
  },
  {
   "cell_type": "markdown",
   "metadata": {},
   "source": [
    "## Questão 2\n",
    "\n",
    "### Desenhe uma raquete de tenis de mesa utilizando bibliotecas gráficas e função definida por partes"
   ]
  },
  {
   "cell_type": "code",
   "execution_count": 67,
   "metadata": {},
   "outputs": [
    {
     "data": {
      "image/png": "[encoded data removed]",
      "text/plain": [
       "<Figure size 432x288 with 1 Axes>"
      ]
     },
     "metadata": {
      "needs_background": "light"
     },
     "output_type": "display_data"
    }
   ],
   "source": [
    "from matplotlib import pyplot as plt\n",
    "import numpy as np\n",
    "\n",
    "X = np.linspace(-8, 8, 100)\n",
    "\n",
    "\n",
    "def arcoSuperior(x):\n",
    "    if x>-5 and x<5:\n",
    "        return x**2 \n",
    "aS = [pista3(x) for x in X]\n",
    "\n",
    "def arcoInferior(x):\n",
    "    if x>-5 and x<5:\n",
    "        return -x**2 \n",
    "aI = [pista1(x) for x in X]\n",
    "\n",
    "def cabo(x):\n",
    "    if x == -2:\n",
    "        return 27\n",
    "    if x>-3 and x<3:\n",
    "        return 0\n",
    "    if x == 2:\n",
    "        return 27\n",
    "cb = [cabo(x) for x in X]\n",
    "\n",
    "plt.xlabel('eixo X')\n",
    "plt.ylabel('Y')\n",
    "\n",
    "plt.grid(True, linestyle='-.')\n",
    "\n",
    "\n",
    "plt.plot(X, aI, color=\"red\", linewidth=5.0, linestyle=\"-\")\n",
    "plt.plot(X, cb, color=\"blue\", linewidth=5.0, linestyle=\"-\")\n",
    "plt.plot(X, aS, color=\"orange\", linewidth=5.0, linestyle=\"-\")\n",
    "\n",
    "plt.show()"
   ]
  },
  {
   "cell_type": "markdown",
   "metadata": {},
   "source": [
    "## Questão 3 \n",
    "\n",
    "### Utilizando *list comprehention* escreva uma função que gere a lista $$ [\\frac{1}{3!},\\frac{1}{5!},\\frac{1}{7!},\\frac{1}{9!}] $$"
   ]
  },
  {
   "cell_type": "code",
   "execution_count": 11,
   "metadata": {},
   "outputs": [
    {
     "name": "stdin",
     "output_type": "stream",
     "text": [
      "Digite o numero de termos para a lista a ser gerada 10\n"
     ]
    },
    {
     "data": {
      "text/plain": [
       "[1.0, 0.5, 0.041666666666666664, 0.001388888888888889, 2.48015873015873e-05]"
      ]
     },
     "execution_count": 11,
     "metadata": {},
     "output_type": "execute_result"
    }
   ],
   "source": [
    "def calcFatorial(n):\n",
    "    if ((n == 0) or (n ==1)):\n",
    "        return 1\n",
    "    else:\n",
    "        return n*calcFatorial(n-1)\n",
    "\n",
    "lim = int(input('Digite o numero de termos para a lista a ser gerada'))\n",
    "[ 1/calcFatorial(x) for x in range(0,lim,+2) ] # valor da lista\n",
    "# [print(f'1/{x}!') for x in range(0,lim,+2)] # função para printar a lista "
   ]
  },
  {
   "cell_type": "markdown",
   "metadata": {},
   "source": [
    "## Questão 4\n",
    "\n",
    "### Sem usar 'sympy' ou 'numpy' determine o limite de\n",
    "\n",
    "$$\\lim_{h \\rightarrow 0} \\frac{f(a+h) - f(a)}{h}$$\n",
    "\n",
    "### para a função a seguir, no ponto a = 3\n",
    "\n",
    "$$ f(x) = \\frac{3x^2-1}{\\sqrt{x}} $$"
   ]
  },
  {
   "cell_type": "code",
   "execution_count": 34,
   "metadata": {},
   "outputs": [
    {
     "name": "stdout",
     "output_type": "stream",
     "text": [
      "[8.48889300106973, 8.19614359561615, 8.095767081210308, 8.0450210909258, 8.014390369465865, 7.993892479021731, 7.979212860248968, 7.968182081441597, 7.959590043620082]\n"
     ]
    }
   ],
   "source": [
    "import math\n",
    "# funcao proposta\n",
    "f = lambda x: (((3*(x**2))-1)/(math.sqrt(x)))\n",
    "\n",
    "# coeficiente diferencial\n",
    "dif = lambda o: (((f(3+o)) - f(3)) / o)\n",
    "\n",
    "# funcao para validar os valores e calcular\n",
    "def coefDif(f,a,h):\n",
    "    result = list(map(dif,h))\n",
    "    return result\n",
    "\n",
    "# metodo para gerar uma lista de valores tendendo a 0\n",
    "h = []\n",
    "i = 1\n",
    "while (i < 10):\n",
    "    h.append(1/i)\n",
    "    i += 1\n",
    "    \n",
    "# metodo para verificar se ha algum valor igual a 0 dentro da lista de valores\n",
    "var = 0\n",
    "for i in range(0,len(h)):\n",
    "    if (h[i] == 0):\n",
    "        var +=1 \n",
    "if (var == 0):\n",
    "    print(coefDif(f,3,h))\n",
    "else:\n",
    "    print('Lista com um ou mais valores nao permitidos, corriga e tente novamente')"
   ]
  },
  {
   "cell_type": "code",
   "execution_count": null,
   "metadata": {},
   "outputs": [],
   "source": []
  }
 ],
 "metadata": {
  "kernelspec": {
   "display_name": "Python 3",
   "language": "python",
   "name": "python3"
  },
  "language_info": {
   "codemirror_mode": {
    "name": "ipython",
    "version": 3
   },
   "file_extension": ".py",
   "mimetype": "text/x-python",
   "name": "python",
   "nbconvert_exporter": "python",
   "pygments_lexer": "ipython3",
   "version": "3.7.4"
  }
 },
 "nbformat": 4,
 "nbformat_minor": 4
}
