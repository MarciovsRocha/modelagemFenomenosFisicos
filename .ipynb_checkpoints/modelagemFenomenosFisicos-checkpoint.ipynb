{
 "cells": [
  {
   "cell_type": "markdown",
   "metadata": {},
   "source": [
    "# <b><i>Modelagem de Fenômenos Fisicos</i></b>"
   ]
  },
  {
   "cell_type": "markdown",
   "metadata": {},
   "source": [
    "## <i>Aula 21/02/2020</i>"
   ]
  },
  {
   "cell_type": "markdown",
   "metadata": {},
   "source": [
    "### Formatação de Texto\n",
    "\n",
    "Como exemplo de matemática, teremos uma equação: $f(x) = 2x+p$, também teremos uma raiz quadrada $\\sqrt{x + 2 a b}$. Também teremos uma fração $\\frac{x+1}{x-1}$. Escreveremos também o teorema de pitágoras: $$a^2 = c^2 + c^2$$"
   ]
  },
  {
   "cell_type": "markdown",
   "metadata": {},
   "source": [
    "Fórmula de Báskhara: $$x_{1,2} =\\frac{-b \\pm \\sqrt{b^2 - 4 a c}}{2a}$$"
   ]
  },
  {
   "cell_type": "markdown",
   "metadata": {},
   "source": [
    "### Funções em PYTHON"
   ]
  },
  {
   "cell_type": "code",
   "execution_count": 1,
   "metadata": {},
   "outputs": [
    {
     "name": "stdout",
     "output_type": "stream",
     "text": [
      "10\n",
      "10\n"
     ]
    }
   ],
   "source": [
    "def dobro(x):\n",
    "    return 2*x\n",
    "def soma(x,y):\n",
    "    return x+y\n",
    "\n",
    "print(soma(3,7))\n",
    "print(dobro(5))"
   ]
  },
  {
   "cell_type": "markdown",
   "metadata": {},
   "source": [
    "# *Aula 27/02/2020* \n",
    "## *Funções*"
   ]
  },
  {
   "cell_type": "code",
   "execution_count": 7,
   "metadata": {},
   "outputs": [],
   "source": [
    "def quadrado(x):  # def = define \n",
    "    return x**2\n",
    "\n",
    "def polinomio(x):\n",
    "    return x**3 - 2 * x**2 + 4"
   ]
  },
  {
   "cell_type": "code",
   "execution_count": 4,
   "metadata": {},
   "outputs": [
    {
     "data": {
      "text/plain": [
       "9"
      ]
     },
     "execution_count": 4,
     "metadata": {},
     "output_type": "execute_result"
    }
   ],
   "source": [
    "quadrado(-3) # chamando função para realizar o caculo"
   ]
  },
  {
   "cell_type": "code",
   "execution_count": 9,
   "metadata": {},
   "outputs": [
    {
     "data": {
      "text/plain": [
       "804"
      ]
     },
     "execution_count": 9,
     "metadata": {},
     "output_type": "execute_result"
    }
   ],
   "source": [
    "polinomio(10) # chamando funcao para realizar calculo"
   ]
  },
  {
   "cell_type": "code",
   "execution_count": 16,
   "metadata": {},
   "outputs": [],
   "source": [
    "def voz(animal):\n",
    "    if ((animal == \"cachorro\") or (animal == \"Cachorro\")):\n",
    "        return \"au-au\"\n",
    "    elif ((animal == \"gato\") or (animal == \"Gato\")):\n",
    "        return \"miau\"\n",
    "    else:\n",
    "        return \"Animal desconhecido\""
   ]
  },
  {
   "cell_type": "code",
   "execution_count": 12,
   "metadata": {},
   "outputs": [
    {
     "name": "stdout",
     "output_type": "stream",
     "text": [
      "miau\n"
     ]
    }
   ],
   "source": [
    "voz(\"gato\")"
   ]
  },
  {
   "cell_type": "code",
   "execution_count": 13,
   "metadata": {},
   "outputs": [
    {
     "name": "stdout",
     "output_type": "stream",
     "text": [
      "au-au\n"
     ]
    }
   ],
   "source": [
    "voz(\"cachorro\")"
   ]
  },
  {
   "cell_type": "code",
   "execution_count": 15,
   "metadata": {},
   "outputs": [
    {
     "name": "stdout",
     "output_type": "stream",
     "text": [
      "Animal desconhecido\n"
     ]
    }
   ],
   "source": [
    "voz(\"Bârde\")"
   ]
  },
  {
   "cell_type": "code",
   "execution_count": 29,
   "metadata": {},
   "outputs": [],
   "source": [
    "def temperatura(temp):\n",
    "    if ((temp >= 15) and (temp <= 22)):\n",
    "        return \"agradavel\"\n",
    "    elif (temp < 11):\n",
    "        return \"muito frio!\"\n",
    "    elif((temp > 22) and (temp <= 27)):\n",
    "        return \"quente\"\n",
    "    elif temp > 28:\n",
    "        return \"muito quente!\"\n",
    "    elif temp < 15:\n",
    "        return \"frio!\"\n",
    "    "
   ]
  },
  {
   "cell_type": "code",
   "execution_count": 30,
   "metadata": {},
   "outputs": [
    {
     "data": {
      "text/plain": [
       "'muito frio!'"
      ]
     },
     "execution_count": 30,
     "metadata": {},
     "output_type": "execute_result"
    }
   ],
   "source": [
    "temperatura(1)"
   ]
  },
  {
   "cell_type": "code",
   "execution_count": null,
   "metadata": {},
   "outputs": [],
   "source": [
    "def f(x):\n",
    "    if type(x) != int:\n",
    "        print(\"Valor inserido incompatível\")\n",
    "    elif x == 1 or x == (-1):\n",
    "        print(\"valor inserido incompatível\")\n",
    "    else:\n",
    "        return (1 / (x**2 - 1) ) \n",
    "\n",
    "x = input(\"Digite o valor: \")\n",
    "f(x)"
   ]
  },
  {
   "cell_type": "code",
   "execution_count": null,
   "metadata": {},
   "outputs": [],
   "source": []
  }
 ],
 "metadata": {
  "kernelspec": {
   "display_name": "Python 3",
   "language": "python",
   "name": "python3"
  },
  "language_info": {
   "codemirror_mode": {
    "name": "ipython",
    "version": 3
   },
   "file_extension": ".py",
   "mimetype": "text/x-python",
   "name": "python",
   "nbconvert_exporter": "python",
   "pygments_lexer": "ipython3",
   "version": "3.7.4"
  }
 },
 "nbformat": 4,
 "nbformat_minor": 4
}
