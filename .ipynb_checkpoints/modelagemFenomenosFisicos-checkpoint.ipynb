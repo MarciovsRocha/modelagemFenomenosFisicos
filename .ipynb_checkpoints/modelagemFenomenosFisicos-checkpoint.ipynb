{
 "cells": [
  {
   "cell_type": "markdown",
   "metadata": {},
   "source": [
    "# <b><i>Modelagem de Fenômenos Fisicos</i></b>"
   ]
  },
  {
   "cell_type": "markdown",
   "metadata": {},
   "source": [
    "## <i>Aula 21/02/2020</i>"
   ]
  },
  {
   "cell_type": "markdown",
   "metadata": {},
   "source": [
    "### Formatação de Texto\n",
    "\n",
    "Como exemplo de matemática, teremos uma equação: $f(x) = 2x+p$, também teremos uma raiz quadrada $\\sqrt{x + 2 a b}$. Também teremos uma fração $\\frac{x+1}{x-1}$. Escreveremos também o teorema de pitágoras: $$a^2 = c^2 + c^2$$"
   ]
  },
  {
   "cell_type": "markdown",
   "metadata": {},
   "source": [
    "Fórmula de Báskhara: $$x_{1,2} =\\frac{-b \\pm \\sqrt{b^2 - 4 a c}}{2a}$$"
   ]
  },
  {
   "cell_type": "markdown",
   "metadata": {},
   "source": [
    "### Funções em PYTHON"
   ]
  },
  {
   "cell_type": "code",
   "execution_count": 1,
   "metadata": {},
   "outputs": [
    {
     "name": "stdout",
     "output_type": "stream",
     "text": [
      "10\n",
      "10\n"
     ]
    }
   ],
   "source": [
    "def dobro(x):\n",
    "    return 2*x\n",
    "def soma(x,y):\n",
    "    return x+y\n",
    "\n",
    "print(soma(3,7))\n",
    "print(dobro(5))"
   ]
  },
  {
   "cell_type": "markdown",
   "metadata": {},
   "source": [
    "# *Aula 27/02/2020* \n",
    "## *Funções*"
   ]
  },
  {
   "cell_type": "code",
   "execution_count": 7,
   "metadata": {},
   "outputs": [],
   "source": [
    "def quadrado(x):  # def = define \n",
    "    return x**2\n",
    "\n",
    "def polinomio(x):\n",
    "    return x**3 - 2 * x**2 + 4"
   ]
  },
  {
   "cell_type": "code",
   "execution_count": 4,
   "metadata": {},
   "outputs": [
    {
     "data": {
      "text/plain": [
       "9"
      ]
     },
     "execution_count": 4,
     "metadata": {},
     "output_type": "execute_result"
    }
   ],
   "source": [
    "quadrado(-3) # chamando função para realizar o caculo"
   ]
  },
  {
   "cell_type": "code",
   "execution_count": 9,
   "metadata": {},
   "outputs": [
    {
     "data": {
      "text/plain": [
       "804"
      ]
     },
     "execution_count": 9,
     "metadata": {},
     "output_type": "execute_result"
    }
   ],
   "source": [
    "polinomio(10) # chamando funcao para realizar calculo"
   ]
  },
  {
   "cell_type": "code",
   "execution_count": 16,
   "metadata": {},
   "outputs": [],
   "source": [
    "def voz(animal):\n",
    "    if ((animal == \"cachorro\") or (animal == \"Cachorro\")):\n",
    "        return \"au-au\"\n",
    "    elif ((animal == \"gato\") or (animal == \"Gato\")):\n",
    "        return \"miau\"\n",
    "    else:\n",
    "        return \"Animal desconhecido\""
   ]
  },
  {
   "cell_type": "code",
   "execution_count": 12,
   "metadata": {},
   "outputs": [
    {
     "name": "stdout",
     "output_type": "stream",
     "text": [
      "miau\n"
     ]
    }
   ],
   "source": [
    "voz(\"gato\")"
   ]
  },
  {
   "cell_type": "code",
   "execution_count": 13,
   "metadata": {},
   "outputs": [
    {
     "name": "stdout",
     "output_type": "stream",
     "text": [
      "au-au\n"
     ]
    }
   ],
   "source": [
    "voz(\"cachorro\")"
   ]
  },
  {
   "cell_type": "code",
   "execution_count": 15,
   "metadata": {},
   "outputs": [
    {
     "name": "stdout",
     "output_type": "stream",
     "text": [
      "Animal desconhecido\n"
     ]
    }
   ],
   "source": [
    "voz(\"Bârde\")"
   ]
  },
  {
   "cell_type": "code",
   "execution_count": 29,
   "metadata": {},
   "outputs": [],
   "source": [
    "def temperatura(temp):\n",
    "    if ((temp >= 15) and (temp <= 22)):\n",
    "        return \"agradavel\"\n",
    "    elif (temp < 11):\n",
    "        return \"muito frio!\"\n",
    "    elif((temp > 22) and (temp <= 27)):\n",
    "        return \"quente\"\n",
    "    elif temp > 28:\n",
    "        return \"muito quente!\"\n",
    "    elif temp < 15:\n",
    "        return \"frio!\"\n",
    "    "
   ]
  },
  {
   "cell_type": "code",
   "execution_count": 30,
   "metadata": {},
   "outputs": [
    {
     "data": {
      "text/plain": [
       "'muito frio!'"
      ]
     },
     "execution_count": 30,
     "metadata": {},
     "output_type": "execute_result"
    }
   ],
   "source": [
    "temperatura(1)"
   ]
  },
  {
   "cell_type": "code",
   "execution_count": null,
   "metadata": {},
   "outputs": [],
   "source": [
    "def f(x):\n",
    "    if type(x) != int:\n",
    "        print(\"Valor inserido incompatível\")\n",
    "    elif x == 1 or x == (-1):\n",
    "        print(\"valor inserido incompatível\")\n",
    "    else:\n",
    "        return (1 / (x**2 - 1) ) \n",
    "\n",
    "x = input(\"Digite o valor: \")\n",
    "f(x)"
   ]
  },
  {
   "cell_type": "markdown",
   "metadata": {},
   "source": [
    "# *Aula 28/02/2020*"
   ]
  },
  {
   "cell_type": "markdown",
   "metadata": {},
   "source": [
    "## *Funções*"
   ]
  },
  {
   "cell_type": "code",
   "execution_count": 4,
   "metadata": {},
   "outputs": [],
   "source": [
    "def quadrado(x):\n",
    "    return x**2"
   ]
  },
  {
   "cell_type": "code",
   "execution_count": 5,
   "metadata": {},
   "outputs": [
    {
     "data": {
      "text/plain": [
       "16"
      ]
     },
     "execution_count": 5,
     "metadata": {},
     "output_type": "execute_result"
    }
   ],
   "source": [
    "quadrado(4)"
   ]
  },
  {
   "cell_type": "code",
   "execution_count": 6,
   "metadata": {},
   "outputs": [],
   "source": [
    "desconto = 0.8\n",
    "def preco_do_produto(valor, desconto):\n",
    "    return valor * desconto\n"
   ]
  },
  {
   "cell_type": "code",
   "execution_count": 7,
   "metadata": {},
   "outputs": [
    {
     "data": {
      "text/plain": [
       "40.0"
      ]
     },
     "execution_count": 7,
     "metadata": {},
     "output_type": "execute_result"
    }
   ],
   "source": [
    "preco_do_produto(50,desconto)"
   ]
  },
  {
   "cell_type": "markdown",
   "metadata": {},
   "source": [
    "#### Tudo oque uma função precisa deve ser passado como parâmetro, para que o resultado do cálculo seja completamente previsível. Parâmetros encapsulam uma ideia, uma função que opera somente com parâmetros esta função está encapsulada, **nunca use variáveis globais**."
   ]
  },
  {
   "cell_type": "markdown",
   "metadata": {},
   "source": [
    "#### utiliza-se o conceito de tabela/lista/array/matriz para obter-se um resultado imprevisível matematicamente por meio de uma função"
   ]
  },
  {
   "cell_type": "markdown",
   "metadata": {},
   "source": [
    "#### conceito de função: para ser uma função no domínio não deve haver excessão e no codomínio não deve haver ambiguidade"
   ]
  },
  {
   "cell_type": "markdown",
   "metadata": {},
   "source": [
    "#### *Dada a função $f(x) = x^2$*\n",
    "    * Domínio = Conjunto dos Números reais\n",
    "    * Imagem = Conjutno dos números reais não negativos"
   ]
  },
  {
   "cell_type": "markdown",
   "metadata": {},
   "source": [
    "Dada a raiz quadrada $\\sqrt{y}$ para transformá-la em função deve-se decompor em 2 funções $f_1: \\mathbb{R}^{\\geq 0} \\Rightarrow \\mathbb{R}^{+}$ e $f_2: \\mathbb{R}^{\\leq 0} \\Rightarrow \\mathbb{R}^-$"
   ]
  },
  {
   "cell_type": "markdown",
   "metadata": {},
   "source": [
    "Dada a função: $f(x,y) = x + 2y$ escrevemos a sua assinatura da seguinte forma $f:\\mathbb{R} * \\mathbb{R}$, onde $\\mathbb{R}*\\mathbb{R}$ é um produto cartesiano, ou seja um conjunto de pares"
   ]
  },
  {
   "cell_type": "markdown",
   "metadata": {},
   "source": [
    "### *Lista em python*"
   ]
  },
  {
   "cell_type": "code",
   "execution_count": 10,
   "metadata": {},
   "outputs": [],
   "source": [
    "lista = [3, 2, -1, 5, 2, 8]"
   ]
  },
  {
   "cell_type": "code",
   "execution_count": 14,
   "metadata": {},
   "outputs": [
    {
     "name": "stdout",
     "output_type": "stream",
     "text": [
      "[3, 2, -1, 5, 2, 8]\n",
      "-1\n",
      "2\n"
     ]
    }
   ],
   "source": [
    "print(lista)\n",
    "print(lista[2])\n",
    "print(lista[4])"
   ]
  },
  {
   "cell_type": "code",
   "execution_count": 15,
   "metadata": {},
   "outputs": [],
   "source": [
    "lista1 = [1, 4, 6, 6, 8]"
   ]
  },
  {
   "cell_type": "code",
   "execution_count": 16,
   "metadata": {},
   "outputs": [
    {
     "name": "stdout",
     "output_type": "stream",
     "text": [
      "[3, 2, -1, 5, 2, 8]\n",
      "[1, 4, 6, 6, 8]\n",
      "[3, 2, -1, 5, 2, 8, 1, 4, 6, 6, 8]\n"
     ]
    }
   ],
   "source": [
    "lista2 = lista + lista1\n",
    "print(lista)\n",
    "print(lista1)\n",
    "print(lista2)"
   ]
  },
  {
   "cell_type": "markdown",
   "metadata": {},
   "source": [
    "# *Aula 05/03/2020*"
   ]
  },
  {
   "cell_type": "markdown",
   "metadata": {},
   "source": [
    "### *Exercícios propostos*"
   ]
  },
  {
   "cell_type": "code",
   "execution_count": null,
   "metadata": {},
   "outputs": [],
   "source": [
    "import math\n",
    "# função para calcular a área de um quadrado\n",
    "def calcAreaQuadrado(lado1, lado2: int):\n",
    "    if lado1 <= 0 or lado2 <=0:\n",
    "        print(\"Tipo de valor inserido eh imcompativel\")\n",
    "    else:\n",
    "        return lado1 * lado2\n",
    "\n",
    "# função para calcular o perímetro de um retângulo\n",
    "def calcPerimetroRetangulo(lado1, lado2: int):\n",
    "    if lado1 <= 0 or lado2 <= 0:\n",
    "        print(\"Tipo de valor inserido eh imcompativel\")\n",
    "    else:\n",
    "        return lado1**2 + lado2**2 \n",
    "\n",
    "# função para calcular a área de uma circunferência\n",
    "def calcAreaCirculo(r):\n",
    "    if r <= 0:\n",
    "        print(\"Valor inserido incorreto\")\n",
    "    else:\n",
    "        return (math.pi * r ** 2)\n",
    "\n",
    "# função para calcular perímetro de um círculo\n",
    "def calcPerimetroCirculo(r):\n",
    "    if r <= 0:\n",
    "        print(\"Valor inserido incorreto\")\n",
    "    else:\n",
    "        return 2 * math.pi * r\n",
    "\n",
    "# função para calcular o valor do polinômio definido\n",
    "def calcPolinomioDef(x: int):\n",
    "    return ((2*x**3) - (5*x**2)) + 1\n",
    "\n",
    "# função para calcular um polinômio de 3º grau\n",
    "def calcPolinomio(a,b,c,d,x: int):\n",
    "    if a == 0:\n",
    "        print(\"Valor inserido incorreto\")\n",
    "    else:\n",
    "        return (a*x**3) + (b*x**2) + (c*x) + d\n",
    "    \n",
    "# função para calcular a área do triângulo com a fórmula de herão\n",
    "def calcAreaTriangulo(a,b,c: int):\n",
    "    if a <=0 or b <=0 or c <=0:\n",
    "        print(\"Valor inserido incorreto\")\n",
    "    else:\n",
    "        p = (a+b+c)/2\n",
    "        return math.sqrt((p*(p-a)*(p-b)*(p-c)))\n",
    "    \n",
    "# função para mostrar o número maior\n",
    "def mostrarNumeroMaior(a,b: int):\n",
    "    if a == b:\n",
    "        print(f\"São iguais {a} = {b}\")\n",
    "    elif a <  b:\n",
    "        print(f\"O primeiro numero eh maior {a}\")\n",
    "    print(f\"O segundo numero eh maior {b}\")\n",
    "    \n",
    "# função para retornar o maio de3 números\n",
    "def comparaTresNumeros(a,b,c: int):\n",
    "    if a < b and a < c:\n",
    "        print(f\"O maior numero eh {a}\")\n",
    "    elif b < a and b < c:\n",
    "        print(f\"O maior numero eh {b}\")\n",
    "    elif c < a and c < b:\n",
    "        print(f\"O maior numero eh {c}\")\n",
    "    else:\n",
    "        print(f\"Os numeros sao iguais {a} = {b} = {c}\")\n",
    "        \n",
    "        "
   ]
  },
  {
   "cell_type": "markdown",
   "metadata": {},
   "source": [
    "# *Aula 06/03/2020*"
   ]
  },
  {
   "cell_type": "markdown",
   "metadata": {},
   "source": [
    "## *Determine o Domínio e a Imagem das funções*"
   ]
  },
  {
   "cell_type": "markdown",
   "metadata": {},
   "source": [
    "$g(x)=x^2$"
   ]
  },
  {
   "cell_type": "markdown",
   "metadata": {},
   "source": [
    "$dom(g)=\\{\\mathbb{R}\\}$"
   ]
  },
  {
   "cell_type": "markdown",
   "metadata": {},
   "source": [
    "$im(g)=\\{x | x \\in \\mathbb{R} \\wedge x \\neq 1 \\wedge x \\neq -1\\}$"
   ]
  },
  {
   "cell_type": "markdown",
   "metadata": {},
   "source": [
    "$y(x) = \\sqrt{x^2-4}$"
   ]
  },
  {
   "cell_type": "markdown",
   "metadata": {},
   "source": [
    "$dom(y)=\\{x | x \\in \\mathbb{R} \\wedge (-2 \\geq x \\geq 2)\\}$"
   ]
  },
  {
   "cell_type": "markdown",
   "metadata": {},
   "source": [
    "$im(y)=\\{x|x \\in \\mathbb{R} \\wedge x \\gt 0\\}$"
   ]
  },
  {
   "cell_type": "markdown",
   "metadata": {},
   "source": [
    "$f(x)=\\sqrt{x+2}$"
   ]
  },
  {
   "cell_type": "markdown",
   "metadata": {},
   "source": [
    "$dom(f)=\\{x | x \\in \\mathbb{R} \\wedge x \\geq -2\\}$"
   ]
  },
  {
   "cell_type": "markdown",
   "metadata": {},
   "source": [
    "$im(f)=\\{x | x \\in \\mathbb{R} \\wedge x \\geq 0 \\}$"
   ]
  },
  {
   "cell_type": "code",
   "execution_count": 3,
   "metadata": {},
   "outputs": [
    {
     "name": "stdout",
     "output_type": "stream",
     "text": [
      "5\n",
      "1\n",
      "2\n",
      "-7\n",
      "0\n"
     ]
    }
   ],
   "source": [
    "for i in [5,1,2,-7,0]:\n",
    "    print(i)"
   ]
  },
  {
   "cell_type": "code",
   "execution_count": 5,
   "metadata": {},
   "outputs": [
    {
     "name": "stdout",
     "output_type": "stream",
     "text": [
      "C\n",
      "i\n",
      "ê\n",
      "n\n",
      "c\n",
      "i\n",
      "a\n",
      " \n",
      "d\n",
      "a\n",
      " \n",
      "C\n",
      "o\n",
      "m\n",
      "p\n",
      "u\n",
      "t\n",
      "a\n",
      "ç\n",
      "ã\n",
      "o\n"
     ]
    }
   ],
   "source": [
    "for s in \"Ciência da Computação\":\n",
    "    print(s)"
   ]
  },
  {
   "cell_type": "code",
   "execution_count": 16,
   "metadata": {},
   "outputs": [
    {
     "name": "stdout",
     "output_type": "stream",
     "text": [
      "0\n",
      "1\n",
      "2\n",
      "3\n",
      "4\n"
     ]
    }
   ],
   "source": [
    "for j in range(5):\n",
    "    print(j)"
   ]
  },
  {
   "cell_type": "markdown",
   "metadata": {},
   "source": [
    "$1\\div{n}$"
   ]
  },
  {
   "cell_type": "code",
   "execution_count": 25,
   "metadata": {},
   "outputs": [
    {
     "data": {
      "text/plain": [
       "[1.0,\n",
       " 0.5,\n",
       " 0.25,\n",
       " 0.125,\n",
       " 0.0625,\n",
       " 0.03125,\n",
       " 0.015625,\n",
       " 0.0078125,\n",
       " 0.00390625,\n",
       " 0.001953125,\n",
       " 0.0009765625,\n",
       " 0.00048828125,\n",
       " 0.000244140625,\n",
       " 0.0001220703125,\n",
       " 6.103515625e-05,\n",
       " 3.0517578125e-05,\n",
       " 1.52587890625e-05,\n",
       " 7.62939453125e-06,\n",
       " 3.814697265625e-06,\n",
       " 1.9073486328125e-06,\n",
       " 9.5367431640625e-07]"
      ]
     },
     "execution_count": 25,
     "metadata": {},
     "output_type": "execute_result"
    }
   ],
   "source": [
    "[1/(2**n) for n in range(0,21)]"
   ]
  },
  {
   "cell_type": "code",
   "execution_count": 27,
   "metadata": {},
   "outputs": [
    {
     "data": {
      "text/plain": [
       "[1.0,\n",
       " 0.25,\n",
       " 0.1111111111111111,\n",
       " 0.0625,\n",
       " 0.04,\n",
       " 0.027777777777777776,\n",
       " 0.02040816326530612,\n",
       " 0.015625,\n",
       " 0.012345679012345678,\n",
       " 0.01]"
      ]
     },
     "execution_count": 27,
     "metadata": {},
     "output_type": "execute_result"
    }
   ],
   "source": [
    "[1/n**2 for n in range(1,11)]"
   ]
  },
  {
   "cell_type": "code",
   "execution_count": 28,
   "metadata": {},
   "outputs": [
    {
     "data": {
      "text/plain": [
       "[2.0,\n",
       " 1.0,\n",
       " 0.6666666666666666,\n",
       " 0.5,\n",
       " 0.4,\n",
       " 0.3333333333333333,\n",
       " 0.2857142857142857,\n",
       " 0.25,\n",
       " 0.2222222222222222,\n",
       " 0.2]"
      ]
     },
     "execution_count": 28,
     "metadata": {},
     "output_type": "execute_result"
    }
   ],
   "source": [
    "[1/n*2 for n in range(1,11)]"
   ]
  },
  {
   "cell_type": "code",
   "execution_count": 29,
   "metadata": {},
   "outputs": [
    {
     "data": {
      "text/plain": [
       "[1.0,\n",
       " 0.5,\n",
       " 0.3333333333333333,\n",
       " 0.25,\n",
       " 0.2,\n",
       " 0.16666666666666666,\n",
       " 0.14285714285714285,\n",
       " 0.125,\n",
       " 0.1111111111111111,\n",
       " 0.1]"
      ]
     },
     "execution_count": 29,
     "metadata": {},
     "output_type": "execute_result"
    }
   ],
   "source": [
    "[1/n for n in range(1,11)]"
   ]
  },
  {
   "cell_type": "code",
   "execution_count": 30,
   "metadata": {},
   "outputs": [
    {
     "data": {
      "text/plain": [
       "[1.0, 0.5, 0.25, 0.125, 0.0625]"
      ]
     },
     "execution_count": 30,
     "metadata": {},
     "output_type": "execute_result"
    }
   ],
   "source": [
    "def calc(x):\n",
    "    return[1/2**i for i in range(0,x)]\n",
    "calc(5)"
   ]
  },
  {
   "cell_type": "code",
   "execution_count": 34,
   "metadata": {},
   "outputs": [
    {
     "data": {
      "text/plain": [
       "[5, 10, 15, 20]"
      ]
     },
     "execution_count": 34,
     "metadata": {},
     "output_type": "execute_result"
    }
   ],
   "source": [
    "def calc2(n):\n",
    "    return[n*i for i in range(1,5)]\n",
    "calc2(5)"
   ]
  },
  {
   "cell_type": "markdown",
   "metadata": {},
   "source": [
    "## **Aula 13/03/2020**\n",
    "### *Introdução a limites e sequência*"
   ]
  },
  {
   "cell_type": "markdown",
   "metadata": {},
   "source": [
    "### $\\sum_{n=1}^{50} \\frac{1}{k^n}$"
   ]
  },
  {
   "cell_type": "code",
   "execution_count": 18,
   "metadata": {},
   "outputs": [
    {
     "data": {
      "text/plain": [
       "[1.0, 0.5, 0.3333333333333333, 0.25]"
      ]
     },
     "execution_count": 18,
     "metadata": {},
     "output_type": "execute_result"
    }
   ],
   "source": [
    "def soma3(n):\n",
    "    return [1/i for i in range (1,n)]\n",
    "soma3(5)"
   ]
  },
  {
   "cell_type": "code",
   "execution_count": 28,
   "metadata": {},
   "outputs": [
    {
     "data": {
      "text/plain": [
       "[-0.5,\n",
       " 0.25,\n",
       " -0.125,\n",
       " 0.0625,\n",
       " -0.03125,\n",
       " 0.015625,\n",
       " -0.0078125,\n",
       " 0.00390625,\n",
       " -0.001953125]"
      ]
     },
     "execution_count": 28,
     "metadata": {},
     "output_type": "execute_result"
    }
   ],
   "source": [
    "def soma3(n):\n",
    "    return [(-1/2)**i for i in range (1,n)]\n",
    "soma3(10)"
   ]
  },
  {
   "cell_type": "markdown",
   "metadata": {},
   "source": [
    "### $\\lim_{n \\rightarrow \\infty}(\\sum_{k = 1}^{n} \\frac{1}{2^k}) = \\infty$"
   ]
  },
  {
   "cell_type": "markdown",
   "metadata": {},
   "source": [
    "## **_Aula 02/04/2020_**"
   ]
  },
  {
   "cell_type": "markdown",
   "metadata": {},
   "source": [
    "### *Utilizando o laço de repetição WHILE*\n",
    "```python\n",
    "contador = 1\n",
    "soma = 0\n",
    "while contador <= 5:\n",
    "    soma += contador\n",
    "    contador += 1\n",
    "print(f\"A Soma eh {soma}\")\n",
    "```\n",
    "\n",
    "### *Modelo Imperativo*\n",
    "* Estado Mutável\n",
    "* Comandos em Sequência"
   ]
  },
  {
   "cell_type": "markdown",
   "metadata": {},
   "source": [
    "### ***Exercícios***"
   ]
  },
  {
   "cell_type": "markdown",
   "metadata": {},
   "source": [
    "1. Considerando a sequência: $\\frac{1}{1},\\frac{1}{2} ],\\frac{1}{4},\\frac{1}{8},\\frac{1}{16},...,\\frac{1}{2^n}$ escreva uma função em Python que some as n primeiras parcelas da sequência para cada um dos modelos computacionais citados a seguir:\n",
    "\n",
    "* ```while```\n",
    "* ```for```\n",
    "* ```map,reduce```\n",
    "* ```reduce,list cpmprehension```"
   ]
  },
  {
   "cell_type": "code",
   "execution_count": 5,
   "metadata": {},
   "outputs": [
    {
     "name": "stdout",
     "output_type": "stream",
     "text": [
      "1.9990234375\n",
      "1.9990234375\n",
      "1.9990234375\n",
      "1.9990234375\n",
      "1.9990234375\n"
     ]
    }
   ],
   "source": [
    "# funcao utilizada pelos metodos\n",
    "def f(x):\n",
    "    return (1/(2**x))\n",
    "# -----------------------------------------------------------\n",
    "# while\n",
    "cont= 0\n",
    "soma = 0\n",
    "n = 10\n",
    "while cont <= n:\n",
    "    soma += f(cont)\n",
    "    cont += 1\n",
    "print(soma)\n",
    "# -----------------------------------------------------------\n",
    "# for\n",
    "soma = 0\n",
    "for cont in range(0,11):\n",
    "    soma += f(cont)\n",
    "print(soma)    \n",
    "# -----------------------------------------------------------\n",
    "# map\n",
    "num = [x for x in range(0,11)]\n",
    "result = sum(i for i in map(lambda x: (1/(2**x)),num))\n",
    "print(result)\n",
    "# -----------------------------------------------------------\n",
    "# reduce\n",
    "import functools\n",
    "import operator\n",
    "y = [f(x) for x in range(0,11)]\n",
    "result = functools.reduce(operator.add,y)\n",
    "print(result)\n",
    "# -----------------------------------------------------------\n",
    "# usando listComprehention\n",
    "y = sum([f(x) for x in range(0,11)])\n",
    "print(y)\n",
    "\n"
   ]
  },
  {
   "cell_type": "markdown",
   "metadata": {},
   "source": [
    "## **_Aula 03/04/2020_**"
   ]
  },
  {
   "cell_type": "markdown",
   "metadata": {},
   "source": [
    "### *Gráficos de Funções*"
   ]
  },
  {
   "cell_type": "markdown",
   "metadata": {},
   "source": [
    "#### *Plotagem Básica*"
   ]
  },
  {
   "cell_type": "code",
   "execution_count": 3,
   "metadata": {},
   "outputs": [],
   "source": [
    "from matplotlib import pyplot as plt\n",
    "import numpy as np\n"
   ]
  },
  {
   "cell_type": "code",
   "execution_count": 5,
   "metadata": {},
   "outputs": [
    {
     "data": {
      "image/png": "[encoded data removed]",
      "text/plain": [
       "<Figure size 432x288 with 1 Axes>"
      ]
     },
     "metadata": {
      "needs_background": "light"
     },
     "output_type": "display_data"
    }
   ],
   "source": [
    "X = np.linspace(-4,4,256)\n",
    "reta = 2*X\n",
    "plt.plot(X,reta)\n",
    "plt.show()"
   ]
  },
  {
   "cell_type": "markdown",
   "metadata": {},
   "source": [
    "#### *Gerando gráfico de uma parábola*"
   ]
  },
  {
   "cell_type": "code",
   "execution_count": 36,
   "metadata": {},
   "outputs": [
    {
     "data": {
      "image/png": "[encoded data removed]",
      "text/plain": [
       "<Figure size 432x288 with 1 Axes>"
      ]
     },
     "metadata": {
      "needs_background": "light"
     },
     "output_type": "display_data"
    }
   ],
   "source": [
    "X = np.linspace(-44, 80) # linspace(valor_inicial,valor_final,espaço_amostral)\n",
    "parabola = -X**2\n",
    "plt.plot(X,parabola)\n",
    "plt.title(\"NotStonks\")\n",
    "plt.show()"
   ]
  },
  {
   "cell_type": "markdown",
   "metadata": {},
   "source": [
    "#### *Plotando uma parábola utilizando map()*"
   ]
  },
  {
   "cell_type": "code",
   "execution_count": 37,
   "metadata": {},
   "outputs": [
    {
     "data": {
      "image/png": "[encoded data removed]",
      "text/plain": [
       "<Figure size 432x288 with 1 Axes>"
      ]
     },
     "metadata": {
      "needs_background": "light"
     },
     "output_type": "display_data"
    }
   ],
   "source": [
    "parabola = list(map(lambda x:x**2,X))\n",
    "plt.plot(X,parabola)\n",
    "plt.show()"
   ]
  },
  {
   "cell_type": "markdown",
   "metadata": {},
   "source": [
    "### *Alguns Controles de visualização*"
   ]
  },
  {
   "cell_type": "code",
   "execution_count": 50,
   "metadata": {},
   "outputs": [
    {
     "data": {
      "image/png": "[encoded data removed]",
      "text/plain": [
       "<Figure size 640x480 with 1 Axes>"
      ]
     },
     "metadata": {
      "needs_background": "light"
     },
     "output_type": "display_data"
    }
   ],
   "source": [
    "# Create a figure of size 8x6 inches, 80 dots per inch\n",
    "plt.figure(figsize=(8, 6), dpi=80)\n",
    "\n",
    "# Create a new subplot from a grid of 1x1\n",
    "# plt.subplot(1, 1, 1)\n",
    "\n",
    "X = np.linspace(-np.pi, np.pi, 256, endpoint=True)\n",
    "C = np.cos(X)\n",
    "S = np.sin(X)\n",
    "\n",
    "# Plot cosine with a blue continuous line of width 4 (pixels)\n",
    "plt.plot(X, C, color=\"blue\", linewidth=4.0, linestyle=\"-\")\n",
    "\n",
    "# Plot sine with a green continuous line of width 2 (pixels)\n",
    "plt.plot(X, S, color=\"green\", linewidth=2.0, linestyle=\":\")\n",
    "\n",
    "# Set x limits\n",
    "plt.xlim(-4.0, 4.0)\n",
    "\n",
    "# Set x ticks\n",
    "plt.xticks(np.linspace(-4, 4, 9, endpoint=True))\n",
    "\n",
    "# Set y limits\n",
    "plt.ylim(-1.0, 1.0)\n",
    "\n",
    "# Set y ticks\n",
    "plt.yticks(np.linspace(-1, 1, 5, endpoint=True))\n",
    "\n",
    "# Save figure using 72 dots per inch\n",
    "plt.savefig(\"exercice_2.png\", dpi=72)\n",
    "\n",
    "# Show result on screen\n",
    "plt.show()"
   ]
  },
  {
   "cell_type": "markdown",
   "metadata": {},
   "source": [
    "## Funções definidas por Partes"
   ]
  },
  {
   "cell_type": "code",
   "execution_count": 1,
   "metadata": {},
   "outputs": [],
   "source": [
    "def multiplos_intervalos(x):\n",
    "  if x <= 1:\n",
    "    return 1\n",
    "  elif x>1 and x<=2:\n",
    "    return 2*x\n",
    "  else:\n",
    "    return 4"
   ]
  },
  {
   "cell_type": "code",
   "execution_count": 5,
   "metadata": {},
   "outputs": [
    {
     "data": {
      "image/png": "[encoded data removed]",
      "text/plain": [
       "<Figure size 432x288 with 1 Axes>"
      ]
     },
     "metadata": {
      "needs_background": "light"
     },
     "output_type": "display_data"
    }
   ],
   "source": [
    "from matplotlib import pyplot as plt\n",
    "import numpy as np\n",
    "\n",
    "X = np.linspace(-4, 4, 100)\n",
    "\n",
    "Fm = [multiplos_intervalos(x) for x in X]\n",
    "\n",
    "plt.xlabel('eixo X')\n",
    "plt.ylabel('Y')\n",
    "\n",
    "plt.grid(True, linestyle='-.')\n",
    "\n",
    "plt.title(\"Função definida por partes\")\n",
    "plt.plot(X, Fm, color=\"red\", linewidth=5.0, linestyle=\"-\")\n",
    "\n",
    "#plt.savefig(\"multiplas_partes.png\", dpi=72)\n",
    "\n",
    "plt.show()"
   ]
  },
  {
   "cell_type": "markdown",
   "metadata": {},
   "source": [
    "## ***Aula 16/04/2020***"
   ]
  },
  {
   "cell_type": "markdown",
   "metadata": {},
   "source": [
    "*Derivadas servem para verificar e análisar a variação contínua*"
   ]
  },
  {
   "cell_type": "markdown",
   "metadata": {},
   "source": [
    "*Servem também para análisar quando a variação é positiva, quando establizia e quando a variação é negativa*"
   ]
  },
  {
   "cell_type": "markdown",
   "metadata": {},
   "source": [
    "_Sempre com variação **CONTÍNUA**_"
   ]
  },
  {
   "cell_type": "markdown",
   "metadata": {},
   "source": [
    "*Para medir/calcular a velocidade de varicação de uma curva são utilizadas tangentes*"
   ]
  },
  {
   "cell_type": "markdown",
   "metadata": {},
   "source": [
    "*Para calcular a Tangente a partir de dois pontos da secante utiliza-se o cálculo da tangente trigonométrica*"
   ]
  },
  {
   "cell_type": "markdown",
   "metadata": {},
   "source": [
    "$ \\lim_{h \\rightarrow 0} \\frac{f(a+h)-f(a)}{h}$"
   ]
  },
  {
   "cell_type": "markdown",
   "metadata": {},
   "source": [
    "### Resolvendo Exercícios"
   ]
  },
  {
   "cell_type": "markdown",
   "metadata": {},
   "source": [
    "* $f(x) = x^2$"
   ]
  },
  {
   "cell_type": "markdown",
   "metadata": {},
   "source": [
    "<h3> $$\\frac{f(a+h) - f(a)}{h} = \\frac{[a+h]^2 - [a]^2}{h} = \\frac{a^2 + 2ah + h^2 - a^2}{h} = \\frac{2ah+h*h}{h} = \\frac{h(2a+h)}{h} = 2a+h$$ </h3>"
   ]
  },
  {
   "cell_type": "markdown",
   "metadata": {},
   "source": [
    "$\\frac{[2a+h+1] - [2a+1]}{h} = \\frac{2a+2h+1 - 2a-1}{h} = \\frac{2h + 1 - 1}{h} = \\frac{2h}{h} = 2$"
   ]
  },
  {
   "cell_type": "markdown",
   "metadata": {},
   "source": [
    "$\\displaystyle\\lim_{h \\rightarrow 0}\\frac{f(a+h)-f(a)}{h}$"
   ]
  },
  {
   "cell_type": "markdown",
   "metadata": {},
   "source": [
    "$\\displaystyle \\lim_{x \\rightarrow a}\\frac{f(x)-f(a)}{x-a}$"
   ]
  },
  {
   "cell_type": "markdown",
   "metadata": {},
   "source": [
    "_Escreva uma função que determine o coeficiente diferencial de uma função, a função deve receber os valores $f$, $a$ e $h$_"
   ]
  },
  {
   "cell_type": "code",
   "execution_count": 16,
   "metadata": {},
   "outputs": [
    {
     "name": "stdout",
     "output_type": "stream",
     "text": [
      "28.0\n"
     ]
    }
   ],
   "source": [
    "f = lambda x: x**2 + 3*x -5\n",
    "    \n",
    "def coefDif(f,a,h: int):\n",
    "    if (h == 0):\n",
    "        return 0\n",
    "    coef = (((f(a+h)) - f(a)) / h)\n",
    "    return coef\n",
    "\n",
    "if (coefDif(f,10,5) == 0):\n",
    "    print(\"Nao eh possivel realizar divisao por 0\")\n",
    "else:\n",
    "    print(coefDif(f,10,5))"
   ]
  },
  {
   "cell_type": "markdown",
   "metadata": {},
   "source": [
    "## Aula 23/04/2020"
   ]
  },
  {
   "cell_type": "markdown",
   "metadata": {},
   "source": [
    "calcular $f(x)$ para uma sequência de valores criadas por você"
   ]
  },
  {
   "cell_type": "code",
   "execution_count": 6,
   "metadata": {},
   "outputs": [
    {
     "data": {
      "text/plain": [
       "[1.5,\n",
       " 3.75,\n",
       " 2.6666666666666665,\n",
       " 6.857142857142857,\n",
       " 4.8,\n",
       " 3.75,\n",
       " 5.833333333333333,\n",
       " 6.857142857142857,\n",
       " 7.875,\n",
       " 8.88888888888889]"
      ]
     },
     "execution_count": 6,
     "metadata": {},
     "output_type": "execute_result"
    }
   ],
   "source": [
    "values = [2,4,3,7,5,4,6,7,8,9]\n",
    "list(map(lambda x: ((x**2)-1)/x,values)) # iterador"
   ]
  },
  {
   "cell_type": "markdown",
   "metadata": {},
   "source": [
    "calcular o $\\displaystyle \\lim_{x \\rightarrow 0} \\frac{x^2 - 1}{x}$"
   ]
  },
  {
   "cell_type": "code",
   "execution_count": 9,
   "metadata": {},
   "outputs": [
    {
     "data": {
      "text/plain": [
       "[0.0,\n",
       " -1.5,\n",
       " -2.6666666666666665,\n",
       " -3.75,\n",
       " -4.8,\n",
       " -5.833333333333334,\n",
       " -6.857142857142858,\n",
       " -7.875,\n",
       " -8.88888888888889,\n",
       " -9.899999999999999,\n",
       " -10.909090909090908,\n",
       " -11.916666666666668,\n",
       " -12.923076923076922,\n",
       " -13.92857142857143,\n",
       " -14.933333333333334,\n",
       " -15.9375,\n",
       " -16.941176470588236,\n",
       " -17.944444444444446,\n",
       " -18.947368421052634,\n",
       " -19.95,\n",
       " -20.952380952380953,\n",
       " -21.954545454545453,\n",
       " -22.956521739130434,\n",
       " -23.958333333333332,\n",
       " -24.959999999999997,\n",
       " -25.96153846153846,\n",
       " -26.962962962962965,\n",
       " -27.964285714285715,\n",
       " -28.96551724137931,\n",
       " -29.96666666666667,\n",
       " -30.967741935483872,\n",
       " -31.96875,\n",
       " -32.96969696969697,\n",
       " -33.97058823529412,\n",
       " -34.971428571428575,\n",
       " -35.97222222222223,\n",
       " -36.97297297297297,\n",
       " -37.973684210526315,\n",
       " -38.97435897435897,\n",
       " -39.975,\n",
       " -40.97560975609756,\n",
       " -41.97619047619048,\n",
       " -42.97674418604651,\n",
       " -43.97727272727273,\n",
       " -44.977777777777774,\n",
       " -45.97826086956522,\n",
       " -46.97872340425532,\n",
       " -47.97916666666667,\n",
       " -48.9795918367347,\n",
       " -49.980000000000004,\n",
       " -50.98039215686274,\n",
       " -51.980769230769226,\n",
       " -52.9811320754717,\n",
       " -53.98148148148149,\n",
       " -54.981818181818184,\n",
       " -55.98214285714286,\n",
       " -56.982456140350884,\n",
       " -57.98275862068966,\n",
       " -58.983050847457626,\n",
       " -59.983333333333334,\n",
       " -60.983606557377044,\n",
       " -61.983870967741936,\n",
       " -62.98412698412699,\n",
       " -63.984375,\n",
       " -64.98461538461538,\n",
       " -65.98484848484848,\n",
       " -66.98507462686568,\n",
       " -67.98529411764706,\n",
       " -68.98550724637681,\n",
       " -69.9857142857143,\n",
       " -70.98591549295774,\n",
       " -71.98611111111111,\n",
       " -72.98630136986301,\n",
       " -73.98648648648648,\n",
       " -74.98666666666666,\n",
       " -75.98684210526316,\n",
       " -76.98701298701297,\n",
       " -77.98717948717949,\n",
       " -78.9873417721519,\n",
       " -79.9875,\n",
       " -80.98765432098766,\n",
       " -81.98780487804878,\n",
       " -82.98795180722891,\n",
       " -83.98809523809524,\n",
       " -84.98823529411764,\n",
       " -85.98837209302326,\n",
       " -86.98850574712644,\n",
       " -87.98863636363636,\n",
       " -88.98876404494382,\n",
       " -89.98888888888888,\n",
       " -90.98901098901098,\n",
       " -91.98913043478261,\n",
       " -92.98924731182795,\n",
       " -93.98936170212767,\n",
       " -94.98947368421052,\n",
       " -95.98958333333334,\n",
       " -96.9896907216495,\n",
       " -97.98979591836735,\n",
       " -98.98989898989898,\n",
       " -99.99,\n",
       " -100.99009900990099,\n",
       " -101.99019607843137,\n",
       " -102.99029126213593,\n",
       " -103.99038461538461,\n",
       " -104.99047619047617,\n",
       " -105.99056603773585,\n",
       " -106.99065420560748,\n",
       " -107.99074074074075,\n",
       " -108.99082568807339,\n",
       " -109.9909090909091,\n",
       " -110.990990990991,\n",
       " -111.99107142857143,\n",
       " -112.99115044247787,\n",
       " -113.99122807017544,\n",
       " -114.99130434782609,\n",
       " -115.99137931034483,\n",
       " -116.99145299145299,\n",
       " -117.99152542372882,\n",
       " -118.99159663865547]"
      ]
     },
     "execution_count": 9,
     "metadata": {},
     "output_type": "execute_result"
    }
   ],
   "source": [
    "values = [1/i for i in range(1,120)]\n",
    "list(map(lambda x: (((x**2)-1)/x),values))"
   ]
  },
  {
   "cell_type": "markdown",
   "metadata": {},
   "source": [
    "## Derivadas de Funções Reais"
   ]
  },
  {
   "cell_type": "markdown",
   "metadata": {},
   "source": [
    "serão abordadas as _derivadas_ das funções $f: \\mathbb{R} \\rightarrow \\mathbb{R}$"
   ]
  },
  {
   "cell_type": "markdown",
   "metadata": {},
   "source": [
    "### Definição de Derivada"
   ]
  },
  {
   "cell_type": "markdown",
   "metadata": {},
   "source": [
    "A derivada de um ponto"
   ]
  },
  {
   "cell_type": "markdown",
   "metadata": {},
   "source": [
    "a derivada de uma função $f$ em um numero real $a$ denotada por $f'(a)$ é:"
   ]
  },
  {
   "cell_type": "markdown",
   "metadata": {},
   "source": [
    "$\\displaystyle f'(a) = lim_{h \\rightarrow 0}\\frac{f(a+h-f(a)}{h}$"
   ]
  },
  {
   "cell_type": "markdown",
   "metadata": {},
   "source": [
    "A derivada é o estudo das funções contínuas"
   ]
  },
  {
   "cell_type": "code",
   "execution_count": 52,
   "metadata": {},
   "outputs": [],
   "source": [
    "from __future__ import division\n",
    "import sympy as sym\n",
    "from sympy import *\n",
    "\n",
    "from IPython.display import display\n",
    "\n",
    "from sympy.interactive import printing\n",
    "printing.init_printing()\n",
    "\n",
    "x, y, z, h = symbols(\"x y z h\")\n",
    "a, b, k, m, n = symbols(\"a b k m n\", integer=True)\n",
    "f, g = map(Function, 'fg')"
   ]
  },
  {
   "cell_type": "code",
   "execution_count": 53,
   "metadata": {},
   "outputs": [
    {
     "data": {
      "image/png": "[encoded data removed]",
      "text/latex": [
       "$\\displaystyle 2 x$"
      ],
      "text/plain": [
       "2⋅x"
      ]
     },
     "execution_count": 53,
     "metadata": {},
     "output_type": "execute_result"
    }
   ],
   "source": [
    "quadratica = x**2\n",
    "diff(quadratica, x)"
   ]
  },
  {
   "cell_type": "code",
   "execution_count": 54,
   "metadata": {},
   "outputs": [
    {
     "data": {
      "image/png": "[encoded data removed]",
      "text/latex": [
       "$\\displaystyle 3 x^{2}$"
      ],
      "text/plain": [
       "   2\n",
       "3⋅x "
      ]
     },
     "execution_count": 54,
     "metadata": {},
     "output_type": "execute_result"
    }
   ],
   "source": [
    "cubica = x**3\n",
    "diff(x**3)"
   ]
  },
  {
   "cell_type": "code",
   "execution_count": 55,
   "metadata": {},
   "outputs": [
    {
     "data": {
      "image/png": "[encoded data removed]",
      "text/latex": [
       "$\\displaystyle 4 x^{3}$"
      ],
      "text/plain": [
       "   3\n",
       "4⋅x "
      ]
     },
     "execution_count": 55,
     "metadata": {},
     "output_type": "execute_result"
    }
   ],
   "source": [
    "quart = x**4\n",
    "diff(quart)"
   ]
  },
  {
   "cell_type": "markdown",
   "metadata": {},
   "source": [
    "$f(x) = x^2 \\mapsto f'(x) = 2x$\n",
    "\n",
    "$f(x) = x^3 \\mapsto f'(x) = 3x^2$\n",
    "\n",
    "$f(x) = x^4 \\mapsto f'(x) = 4x^3$\n",
    "\n",
    "$f(x) = x^5 \\mapsto f'(x) = 5x^4$"
   ]
  },
  {
   "cell_type": "markdown",
   "metadata": {},
   "source": [
    "$f(x) = x^5 - 2x^3 + x^2 + x^1 - 4 \\ \\mapsto f'(x) = 5x^4 - 6x^2 + 2x + 1$"
   ]
  },
  {
   "cell_type": "markdown",
   "metadata": {},
   "source": [
    "## $f(x) = x^n \\mapsto nx^{n-1}$"
   ]
  },
  {
   "cell_type": "code",
   "execution_count": 57,
   "metadata": {},
   "outputs": [
    {
     "data": {
      "image/png": "[encoded data removed]",
      "text/latex": [
       "$\\displaystyle \\cos{\\left(x \\right)}$"
      ],
      "text/plain": [
       "cos(x)"
      ]
     },
     "execution_count": 57,
     "metadata": {},
     "output_type": "execute_result"
    }
   ],
   "source": [
    "# seno = sin(x)\n",
    "diff(sin(x))"
   ]
  },
  {
   "cell_type": "markdown",
   "metadata": {},
   "source": [
    "$$f(x) = x^5 - 2x^3 + x^2 + x - 6 \\mapsto 5x^{(5-1)} - 3*2X^{(3-1)} + 2x^{(2-1) x^1} - 6x^{0}\n",
    "$$"
   ]
  },
  {
   "cell_type": "markdown",
   "metadata": {},
   "source": [
    "$5x^4 - 6x^2 + 2x + 1$"
   ]
  },
  {
   "cell_type": "markdown",
   "metadata": {},
   "source": [
    "A derivada de uma constante é nula"
   ]
  },
  {
   "cell_type": "markdown",
   "metadata": {},
   "source": [
    "---"
   ]
  },
  {
   "cell_type": "markdown",
   "metadata": {},
   "source": [
    "## Aula 07/05/2020"
   ]
  },
  {
   "cell_type": "code",
   "execution_count": 47,
   "metadata": {},
   "outputs": [
    {
     "data": {
      "image/png": "[encoded data removed]",
      "text/plain": [
       "<Figure size 432x288 with 1 Axes>"
      ]
     },
     "metadata": {
      "needs_background": "light"
     },
     "output_type": "display_data"
    }
   ],
   "source": [
    "import matplotlib.pyplot as plt\n",
    "import numpy as np\n",
    "X = np.linspace(-5,5,2000)\n",
    "# reta = 2*X # operação vetorizada\n",
    "# reta = [2*x for x in X]\n",
    "# reta = list(map(lambda x: 2*x),X)\n",
    "#parabola = X**2 # -10*X -20\n",
    "parabola = [x**2 for x in X]\n",
    "#parabola = list(map(lambda x: x**2,X))\n",
    "# derivada de X**2\n",
    "# 2*x**2-1\n",
    "der_parabola = [2*x for x in X]\n",
    "\n",
    "cubica = [x**3 for x in X]\n",
    "#cubica = X**3\n",
    "#cubica = list(map(lambda x: x**3,X))\n",
    "# derivada de X**3\n",
    "der_cubica = [3*(x**2) for x in X]\n",
    "# 3*x**3-1\n",
    "C = np.cos(X)\n",
    "\n",
    "# plot session\n",
    "plt.plot(X,parabola, color='blue')\n",
    "plt.plot(X,der_parabola, color='orange')\n",
    "plt.show()"
   ]
  },
  {
   "cell_type": "code",
   "execution_count": 48,
   "metadata": {},
   "outputs": [
    {
     "data": {
      "image/png": "[encoded data removed]",
      "text/plain": [
       "<Figure size 432x288 with 1 Axes>"
      ]
     },
     "metadata": {
      "needs_background": "light"
     },
     "output_type": "display_data"
    }
   ],
   "source": [
    "plt.plot(X,cubica, color='blue')\n",
    "plt.plot(X,der_cubica, color='orange')\n",
    "plt.show()"
   ]
  },
  {
   "cell_type": "code",
   "execution_count": 60,
   "metadata": {},
   "outputs": [
    {
     "data": {
      "image/png": "[encoded data removed]",
      "text/plain": [
       "<Figure size 432x288 with 1 Axes>"
      ]
     },
     "metadata": {
      "needs_background": "light"
     },
     "output_type": "display_data"
    }
   ],
   "source": [
    "der_seg_cubica = list(map(diff,der_cubica))\n",
    "plt.plot(X,der_seg_cubica, color='orange')\n",
    "plt.plot(X,der_cubica, color ='blue')\n",
    "plt.show()"
   ]
  },
  {
   "cell_type": "markdown",
   "metadata": {},
   "source": [
    "Função: $f(x)= x^3$\n",
    "\n",
    "Derivada: $f'(x) = 3x^{3-1} \\rightarrow f'(x) = 3x^2$\n",
    "\n",
    "$f(-3) = -27$\n",
    "\n",
    "$f'(-3) = 27$\n",
    "\n",
    "$f(3)=27$\n",
    "\n",
    "$f'(3)=27$\n",
    "\n",
    "$f(0) = 0$\n",
    "\n",
    "$f'(0) = 0$"
   ]
  },
  {
   "cell_type": "markdown",
   "metadata": {},
   "source": [
    "### Comportamento de Funções"
   ]
  },
  {
   "cell_type": "markdown",
   "metadata": {},
   "source": [
    "1. Função ***PAR***: função par é aquela função que $f(x) = f(-x)$\n",
    "2. Função ***ÍMPAR***: função ímpar é aquela função que $f(x) = -f(-x)$\n",
    "3. Conceito de função ***CRESCENTE***: $x_1 < x_2 \\rightarrow f(x_1) < f(x_2)$\n",
    "4. Conceito de função ***DECRESCENTE***: $x_1 > x_2 \\rightarrow f(x_1) > f(x_2)$"
   ]
  },
  {
   "cell_type": "markdown",
   "metadata": {},
   "source": [
    "Derivada de $x^2$ = $2x^{2-1}$"
   ]
  },
  {
   "cell_type": "markdown",
   "metadata": {},
   "source": [
    "Derivada de $x^3 = 3x^{3-1}$"
   ]
  },
  {
   "cell_type": "markdown",
   "metadata": {},
   "source": [
    "1. Quando a função é ***decrescente*** a derivada é ***negativa***\n",
    "2. Quando a função é ***crescente*** a derivada é ***positiva***"
   ]
  },
  {
   "cell_type": "markdown",
   "metadata": {},
   "source": [
    "### Lista de Exercício"
   ]
  },
  {
   "cell_type": "markdown",
   "metadata": {},
   "source": [
    "**Q1:** Gere as sequências a seguir por meio de list comprehention"
   ]
  },
  {
   "cell_type": "code",
   "execution_count": 2,
   "metadata": {},
   "outputs": [
    {
     "data": {
      "text/plain": [
       "[1.0,\n",
       " 0.5,\n",
       " 0.3333333333333333,\n",
       " 0.25,\n",
       " 0.2,\n",
       " 0.16666666666666666,\n",
       " 0.14285714285714285,\n",
       " 0.125,\n",
       " 0.1111111111111111]"
      ]
     },
     "execution_count": 2,
     "metadata": {},
     "output_type": "execute_result"
    }
   ],
   "source": [
    "[1/x for x in range(1,10)]"
   ]
  },
  {
   "cell_type": "code",
   "execution_count": 6,
   "metadata": {},
   "outputs": [
    {
     "data": {
      "text/plain": [
       "7.484470860550343"
      ]
     },
     "execution_count": 6,
     "metadata": {},
     "output_type": "execute_result"
    }
   ],
   "source": [
    "#lambda x: x%\n",
    "sum([1/x for x in range(1,1000)])"
   ]
  },
  {
   "cell_type": "code",
   "execution_count": 9,
   "metadata": {},
   "outputs": [
    {
     "name": "stdout",
     "output_type": "stream",
     "text": [
      "1/1\n",
      "1/3\n",
      "1/5\n",
      "1/7\n",
      "1/9\n"
     ]
    },
    {
     "data": {
      "text/plain": [
       "[None, None, None, None, None]"
      ]
     },
     "execution_count": 9,
     "metadata": {},
     "output_type": "execute_result"
    }
   ],
   "source": [
    "[print(f'1/{n}') for n in range(1,11,+2)]"
   ]
  },
  {
   "cell_type": "code",
   "execution_count": 6,
   "metadata": {},
   "outputs": [
    {
     "data": {
      "text/plain": [
       "0.09090909090909091"
      ]
     },
     "execution_count": 6,
     "metadata": {},
     "output_type": "execute_result"
    }
   ],
   "source": [
    "quociente = lambda x: (x-1)/(x**2-1)\n",
    "def verifica(x, f):\n",
    "    if ((x == 1) or (x == -1)):\n",
    "        return print(' \"X\" nao pode ser 1 ou -1, valor de x:{x}')\n",
    "    return f(x)\n",
    "verifica(10,quociente)"
   ]
  },
  {
   "cell_type": "markdown",
   "metadata": {},
   "source": [
    "## Aula 14/05/2020"
   ]
  },
  {
   "cell_type": "markdown",
   "metadata": {},
   "source": [
    "### Fatorial Recursivo\n",
    "```Haskell\n",
    "fat n = n*fat(n-1)\n",
    "fat 0 = 1\n",
    "```"
   ]
  },
  {
   "cell_type": "code",
   "execution_count": 1,
   "metadata": {},
   "outputs": [],
   "source": [
    "def fatorialRecursivo(n):\n",
    "    if ((n == 0) or (n ==1)):\n",
    "        return 1\n",
    "    else:\n",
    "        return n*fatorialRecursivo(n-1)"
   ]
  },
  {
   "cell_type": "code",
   "execution_count": 3,
   "metadata": {},
   "outputs": [
    {
     "data": {
      "text/plain": [
       "24"
      ]
     },
     "execution_count": 3,
     "metadata": {},
     "output_type": "execute_result"
    }
   ],
   "source": [
    "fatorialRecursivo(4)"
   ]
  },
  {
   "cell_type": "markdown",
   "metadata": {},
   "source": [
    "### Estrutura de uma Lista"
   ]
  },
  {
   "cell_type": "code",
   "execution_count": 4,
   "metadata": {},
   "outputs": [],
   "source": [
    "lst = [5,-2,10,0,3]"
   ]
  },
  {
   "cell_type": "code",
   "execution_count": 5,
   "metadata": {},
   "outputs": [],
   "source": [
    "def head(lista):\n",
    "    return lista[0]"
   ]
  },
  {
   "cell_type": "code",
   "execution_count": 7,
   "metadata": {},
   "outputs": [],
   "source": [
    "def tail(lista):\n",
    "    return lista[1:]"
   ]
  },
  {
   "cell_type": "code",
   "execution_count": 8,
   "metadata": {},
   "outputs": [
    {
     "data": {
      "text/plain": [
       "5"
      ]
     },
     "execution_count": 8,
     "metadata": {},
     "output_type": "execute_result"
    }
   ],
   "source": [
    "head(lst)"
   ]
  },
  {
   "cell_type": "code",
   "execution_count": 9,
   "metadata": {},
   "outputs": [
    {
     "data": {
      "text/plain": [
       "[-2, 10, 0, 3]"
      ]
     },
     "execution_count": 9,
     "metadata": {},
     "output_type": "execute_result"
    }
   ],
   "source": [
    "tail(lst)"
   ]
  },
  {
   "cell_type": "markdown",
   "metadata": {},
   "source": [
    "`lista = []`\n",
    "\n",
    "`lista = valor ++ lista`\n",
    "\n",
    "`lista = cons(valor, lista)`\n",
    "\n",
    "`[4,3,7,9] = cons(4,cons(3,cons(7,cons(9,nil))))`"
   ]
  },
  {
   "cell_type": "markdown",
   "metadata": {},
   "source": [
    "## ***Introdução a integrais***"
   ]
  },
  {
   "cell_type": "markdown",
   "metadata": {},
   "source": [
    "*O conceito de integral de uma função está estritamente ligado à determinação da área do gráfico de uma função com relação ao eixo horizontal*"
   ]
  },
  {
   "cell_type": "code",
   "execution_count": 13,
   "metadata": {},
   "outputs": [
    {
     "data": {
      "image/png": "[encoded data removed]",
      "text/plain": [
       "<Figure size 432x288 with 1 Axes>"
      ]
     },
     "metadata": {
      "needs_background": "light"
     },
     "output_type": "display_data"
    }
   ],
   "source": [
    "from matplotlib import pyplot as plt\n",
    "import numpy as np\n",
    "\n",
    "X = np.linspace(-3,3,200)\n",
    "\n",
    "parabola = X**2\n",
    "\n",
    "cubica = [x**3 for x in X]\n",
    "\n",
    "plt.grid(True, linestyle='-.')\n",
    "#plt.plot(X,parabola)\n",
    "plt.plot(X,cubica)\n",
    "plt.show()"
   ]
  },
  {
   "cell_type": "code",
   "execution_count": 17,
   "metadata": {},
   "outputs": [
    {
     "data": {
      "image/png": "[encoded data removed]",
      "text/latex": [
       "$\\displaystyle 0$"
      ],
      "text/plain": [
       "0"
      ]
     },
     "execution_count": 17,
     "metadata": {},
     "output_type": "execute_result"
    }
   ],
   "source": [
    "from __future__ import division\n",
    "import sympy as sym\n",
    "from sympy import *\n",
    "\n",
    "from IPython.display import display\n",
    "from sympy.interactive import printing\n",
    "\n",
    "printing.init_printing()\n",
    "\n",
    "x, y, z, h, t = symbols(\"x y z h t\")\n",
    "a, b, k, m, n = symbols(\"a b k m n\", integer = True)\n",
    "\n",
    "f, g=map(Function, 'fg')\n"
   ]
  },
  {
   "cell_type": "markdown",
   "metadata": {},
   "source": [
    "### Integral definida"
   ]
  },
  {
   "cell_type": "markdown",
   "metadata": {},
   "source": [
    "$$ \\int_{a}^{b} f(x) \\ dx $$ "
   ]
  },
  {
   "cell_type": "code",
   "execution_count": 21,
   "metadata": {},
   "outputs": [
    {
     "data": {
      "image/png": "[encoded data removed]",
      "text/latex": [
       "$\\displaystyle \\frac{20655}{4}$"
      ],
      "text/plain": [
       "20655/4"
      ]
     },
     "execution_count": 21,
     "metadata": {},
     "output_type": "execute_result"
    }
   ],
   "source": [
    "integrate(x**3,(x, -3,12))"
   ]
  },
  {
   "cell_type": "markdown",
   "metadata": {},
   "source": [
    "### Integral Indefinida"
   ]
  },
  {
   "cell_type": "markdown",
   "metadata": {},
   "source": [
    "$$ \\int f(x) \\ dx $$"
   ]
  },
  {
   "cell_type": "code",
   "execution_count": 23,
   "metadata": {},
   "outputs": [
    {
     "data": {
      "image/png": "[encoded data removed]",
      "text/latex": [
       "$\\displaystyle \\frac{x^{4}}{4}$"
      ],
      "text/plain": [
       " 4\n",
       "x \n",
       "──\n",
       "4 "
      ]
     },
     "execution_count": 23,
     "metadata": {},
     "output_type": "execute_result"
    }
   ],
   "source": [
    "integrate(x**3,x)"
   ]
  },
  {
   "cell_type": "markdown",
   "metadata": {},
   "source": [
    "$$ \\int x^2 dx = \\frac{x^3}{3} +c$$"
   ]
  },
  {
   "cell_type": "code",
   "execution_count": 24,
   "metadata": {},
   "outputs": [
    {
     "data": {
      "image/png": "[encoded data removed]",
      "text/latex": [
       "$\\displaystyle x^{2}$"
      ],
      "text/plain": [
       " 2\n",
       "x "
      ]
     },
     "execution_count": 24,
     "metadata": {},
     "output_type": "execute_result"
    }
   ],
   "source": [
    "diff(x**3/3)"
   ]
  },
  {
   "cell_type": "markdown",
   "metadata": {},
   "source": [
    "### Conceituação Matemática\n",
    "\n",
    "Integral Definida -- se $f$ é uma função contínua definida no intervalo $a \\leq x \\leq b$, dividimos o intervalo $[a,b]$ em $n$ subintervalos de comprimentos iguais $\\Delta x = (b-a)/n$\n",
    "\n",
    "Sejam $x_0,x_1,x_2,...x_n$ (em que $x_0 = a$ e $x_n = b$) as extremidades desses subintervalos, escolhemos os pontos amostrais $x_1^*,x_2^*,x_3^*,...x_n^*$ nesses subintervalos, tal que $x_n^*$ esteja no $i$-ésimo subintervalo $[x_i-1,x_i]$. Então a integral definida de $f$ de $a$ à $b$ é\n",
    "\n",
    "$$\\displaystyle \\int_a^b f(x) \\ dx = \\lim_{n \\rightarrow \\infty} \\sum_{i =1}^{n} f(x_{i}^{*}) \\Delta x $$"
   ]
  },
  {
   "cell_type": "markdown",
   "metadata": {},
   "source": [
    "#### Soma de Riemann"
   ]
  },
  {
   "cell_type": "code",
   "execution_count": 6,
   "metadata": {},
   "outputs": [],
   "source": [
    "import math\n",
    "\n",
    "def integRiemann(func,a,b,n=10000):\n",
    "    step = ((b-a)/n)\n",
    "    round_case = round(math.log(n,10))-1\n",
    "    values = [func(a+num*step)*step for num in range(n+1)]\n",
    "    return round(sum(values),round_case)\n"
   ]
  },
  {
   "cell_type": "code",
   "execution_count": 8,
   "metadata": {},
   "outputs": [
    {
     "data": {
      "text/plain": [
       "0.333"
      ]
     },
     "execution_count": 8,
     "metadata": {},
     "output_type": "execute_result"
    }
   ],
   "source": [
    "integRiemann(lambda x:x**2, 0, 1, 10000)"
   ]
  },
  {
   "cell_type": "code",
   "execution_count": 9,
   "metadata": {},
   "outputs": [
    {
     "data": {
      "text/plain": [
       "0.33383350000000034"
      ]
     },
     "execution_count": 9,
     "metadata": {},
     "output_type": "execute_result"
    }
   ],
   "source": [
    "somaRiemann = lambda f,a,b,n: sum(map(lambda i: f(a+i*((b-a)/n))*((b-a)/n), range(n+1)))\n",
    "somaRiemann(lambda x:x**2,0,1,1000)"
   ]
  },
  {
   "cell_type": "markdown",
   "metadata": {},
   "source": [
    "A integral definida $\\int f(x) dx$ é um número\n",
    "\n",
    "A variável independente pode ser indicada de outros modos: $$\\int_{a}^{b} f(x) dx = \\int_{a}^{b} f(t) dt = \\int_{a}^{b} f(r) dr  $$\n",
    "\n",
    "O somatório $\\displaystyle \\sum_{i=1}^{n} f(x_i^*) \\Delta x$ é chamado de **Soma de Riemann**, em homenagem ao autor desta denifição de *Integral*"
   ]
  },
  {
   "cell_type": "markdown",
   "metadata": {},
   "source": [
    "### Propriedades da Integral\n",
    "\n",
    "A partir da definição de integral, tem-se que $\\int_{a}^{b} f(x) dx = - \\int_{a}^{b} f(x) dx $ e que $\\int_{a}^{b} f(x) dx  = 0$ pois se $a=b$, então $\\Delta x = 0$"
   ]
  },
  {
   "cell_type": "markdown",
   "metadata": {},
   "source": [
    "### Propriedades da ***Integral Definida***\n",
    "\n",
    "$$\\int\\nolimits_{a}^{b} c\\, dx = c\\ (b - a)$$\n",
    "$$\\int\\nolimits_{a}^{b} c\\ f(x)\\, dx =  c \\int\\nolimits_{a}^{b} f(x)\\, dx \\qquad \\textrm{em que c é uma constante} $$\n",
    "$$\\int\\nolimits_{a}^{b} [f(x) + g(x)]\\, dx = \\int\\nolimits_{a}^{b} f(x)\\, dx  + \\int\\nolimits_{a}^{b} g(x)\\, dx $$\n",
    "$$ \\int\\nolimits_{a}^{b} [f(x) - g(x)]\\, dx = \\int\\nolimits_{a}^{b} f(x)\\, dx  - \\int\\nolimits_{a}^{b} g(x)\\, dx $$\n",
    "$$ \\int\\nolimits_{a}^{c} f(x)\\, dx + \\int\\nolimits_{c}^{b} f(x)\\, dx = \\int\\nolimits_{a}^{b} f(x)\\, dx $$"
   ]
  },
  {
   "cell_type": "markdown",
   "metadata": {},
   "source": [
    "***O Teorema Fundamental do Cálculo, Parte I***\n",
    "\n",
    "se $f$ é contínua em $[a,b]$, então a função $g$ definida por $$g(x) = \\int_{a}^{x} f(t)dt \\qquad a \\leq x \\leq b$$ é continua em $[a,b]$, derivável em $(a,b)$ e $$g'(x) = f(x)$$"
   ]
  },
  {
   "cell_type": "markdown",
   "metadata": {},
   "source": [
    "***O Teorema Funcamental do Cálculo, Parte II***\n",
    "\n",
    "Se $f$ é contínua em $[a,b]$, então $$\\int_{a}^{b} f(x)dx=F(b)-F(a)$$ em que $F$ é qualquer primitica de $f$, isto é, $F$ é uma função tal que $F'=f$"
   ]
  },
  {
   "cell_type": "markdown",
   "metadata": {},
   "source": [
    "Com isso concluímos que:\n",
    "\n",
    "* A primitiva de uma função $f$ é indicada pela notação $\\int f(x) dx$ ou seja $\\int f(x) dx = F(x)$ então $F'(x) = f(x)$\n",
    "\n",
    "$\\qquad$_ou seja a derivada de $f(x)$ é $F(x)$ e a derivada de $F(x)$ é $f(x)$_\n",
    "\n",
    "* Portanto uma *Integral Indefinida* representa uma familia de funções, em que as primitivas se diferem pelo valor de uma constante $C$\n",
    "\n",
    "$$\\int x^2 dx = \\frac{x^3}{3}+C \\qquad \\textrm{pois} \\qquad \\frac{d}{dx} \\left(\\frac{x^3}{3}+C \\right) = x$$\n",
    "\n",
    "com isso concluímos que:\n",
    "* a *Integral Definida* $\\int_{a}^{b}f(x)dx$ é um número\n",
    "* a *Integral Indefinida* $\\int f(x)dx$ é uma família de funções\n"
   ]
  },
  {
   "cell_type": "code",
   "execution_count": null,
   "metadata": {},
   "outputs": [],
   "source": []
  },
  {
   "cell_type": "code",
   "execution_count": null,
   "metadata": {},
   "outputs": [],
   "source": []
  }
 ],
 "metadata": {
  "kernelspec": {
   "display_name": "Python 3",
   "language": "python",
   "name": "python3"
  },
  "language_info": {
   "codemirror_mode": {
    "name": "ipython",
    "version": 3
   },
   "file_extension": ".py",
   "mimetype": "text/x-python",
   "name": "python",
   "nbconvert_exporter": "python",
   "pygments_lexer": "ipython3",
   "version": "3.7.4"
  }
 },
 "nbformat": 4,
 "nbformat_minor": 4
}
