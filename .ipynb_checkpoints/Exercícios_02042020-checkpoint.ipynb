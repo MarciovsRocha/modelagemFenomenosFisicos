{
 "cells": [
  {
   "cell_type": "markdown",
   "metadata": {},
   "source": [
    "# Exercício 02/04/2020"
   ]
  },
  {
   "cell_type": "markdown",
   "metadata": {},
   "source": [
    "1. Considerando a sequência $$1, \\frac{1}{2}, \\frac{1}{4}, \\frac{1}{8}, \\frac{1}{16}, \\cdots, \\frac{1}{2^n}$$\n",
    "Escreva uma função em Python que *some as $n$ primeiras parcelas* da sequência para cada um dos modelos computacionais citados a seguir.\n",
    "  - `while`\n",
    "  - `for`\n",
    "  - `map`, `reduce`\n",
    "  - `reduce`, `list comprehension`"
   ]
  },
  {
   "cell_type": "code",
   "execution_count": 90,
   "metadata": {},
   "outputs": [],
   "source": [
    "# funcao a ser utilizada pelos métodos\n",
    "def f(x):\n",
    "    return (1/(2**x))\n",
    ""
   ]
  },
  {
   "cell_type": "code",
   "execution_count": 89,
   "metadata": {},
   "outputs": [
    {
     "output_type": "stream",
     "name": "stdout",
     "text": "1.9990234375\n"
    }
   ],
   "source": [
    "# utilizando while\n",
    "cont = 0 # iterador\n",
    "soma = 0 # variavel acumuladora\n",
    "n = 10 # limite de valor max. do iterador\n",
    "while cont <= n:\n",
    "    soma += f(cont)\n",
    "    cont += 1\n",
    "print(soma)"
   ]
  },
  {
   "cell_type": "code",
   "execution_count": 88,
   "metadata": {},
   "outputs": [
    {
     "output_type": "stream",
     "name": "stdout",
     "text": "1.9990234375\n"
    }
   ],
   "source": [
    "# utilizando for\n",
    "soma = 0\n",
    "for cont in range(0,11):\n",
    "    soma += f(cont)\n",
    "\n",
    "print(soma) "
   ]
  },
  {
   "cell_type": "code",
   "execution_count": 91,
   "metadata": {},
   "outputs": [
    {
     "output_type": "stream",
     "name": "stdout",
     "text": "1.9990234375\n"
    }
   ],
   "source": [
    "# utilizando map\n",
    "num = [x for x in range (0,11)] # usei somente para criar uma lista de valores sequenciais de uma P.A.\n",
    "result = sum(i for i in map(lambda x:(1/(2**x)), num))\n",
    "print(result)"
   ]
  },
  {
   "cell_type": "code",
   "execution_count": 86,
   "metadata": {},
   "outputs": [
    {
     "output_type": "stream",
     "name": "stdout",
     "text": "1.9990234375\n"
    }
   ],
   "source": [
    "# utilizando reduce\n",
    "import functools # biblioteca que contem a funcao reduce()\n",
    "import operator # biblioteca que contem a funcao add para passar como parametro para o reduce\n",
    "y = [f(x) for x in range(0,11)]\n",
    "result = functools.reduce(operator.add,y)\n",
    "print(result)"
   ]
  },
  {
   "cell_type": "code",
   "execution_count": 85,
   "metadata": {},
   "outputs": [
    {
     "output_type": "stream",
     "name": "stdout",
     "text": "1.9990234375\n"
    }
   ],
   "source": [
    "# utilizando list comprehention\n",
    "y = sum([f(x) for x in range(0,11)])\n",
    "print(y)"
   ]
  },
  {
   "cell_type": "code",
   "execution_count": null,
   "metadata": {},
   "outputs": [],
   "source": []
  }
 ],
 "metadata": {
  "kernelspec": {
   "display_name": "Python 3",
   "language": "python",
   "name": "python3"
  },
  "language_info": {
   "codemirror_mode": {
    "name": "ipython",
    "version": 3
   },
   "file_extension": ".py",
   "mimetype": "text/x-python",
   "name": "python",
   "nbconvert_exporter": "python",
   "pygments_lexer": "ipython3",
   "version": "3.8.2-final"
  }
 },
 "nbformat": 4,
 "nbformat_minor": 4
}