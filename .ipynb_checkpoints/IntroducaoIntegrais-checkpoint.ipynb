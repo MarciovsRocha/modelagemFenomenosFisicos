{
 "cells": [
  {
   "cell_type": "markdown",
   "metadata": {},
   "source": [
    "# Introdução a integrais"
   ]
  },
  {
   "cell_type": "markdown",
   "metadata": {},
   "source": [
    "## Motivação ao tema"
   ]
  },
  {
   "cell_type": "markdown",
   "metadata": {},
   "source": [
    "O conceito de integral de uma função está estreitamente ligado à determinação da área do gráfico de uma função com relação ao eixo horizontal. "
   ]
  },
  {
   "cell_type": "code",
   "execution_count": 1,
   "metadata": {},
   "outputs": [],
   "source": [
    "from matplotlib import pyplot as plt\n",
    "import numpy as np"
   ]
  },
  {
   "cell_type": "code",
   "execution_count": 3,
   "metadata": {},
   "outputs": [
    {
     "data": {
      "image/png": "[encoded data removed]",
      "text/plain": [
       "<Figure size 432x288 with 1 Axes>"
      ]
     },
     "metadata": {
      "needs_background": "light"
     },
     "output_type": "display_data"
    }
   ],
   "source": [
    "# import numpy as np\n",
    "X = np.linspace(-4, 4, 200)\n",
    "\n",
    "parabola = X**2 # - 10*X - 20\n",
    "# parabola = [x**2 for x in X]\n",
    "# parabola = list(map(lambda x:x**2, X))\n",
    "\n",
    "plt.grid(True, linestyle='-.')\n",
    "plt.plot(X, parabola)\n",
    "# plt.plot(X, C)\n",
    "# plt.plot(X, S)\n",
    "\n",
    "plt.show()"
   ]
  },
  {
   "cell_type": "markdown",
   "metadata": {},
   "source": [
    "## Aspectos Computacionais"
   ]
  },
  {
   "cell_type": "code",
   "execution_count": 4,
   "metadata": {},
   "outputs": [],
   "source": [
    "from __future__ import division\n",
    "import sympy as sym\n",
    "from sympy import *\n",
    "\n",
    "from IPython.display import display\n",
    "from sympy.interactive import printing\n",
    "printing.init_printing()\n",
    "\n",
    "x, y, z, h, t = symbols(\"x y z h t\")\n",
    "a, b, k, m, n = symbols(\"a b k m n\", integer=True)\n",
    "f, g = map(Function, 'fg')"
   ]
  },
  {
   "cell_type": "markdown",
   "metadata": {},
   "source": [
    "### Integral Definida"
   ]
  },
  {
   "cell_type": "markdown",
   "metadata": {},
   "source": [
    "$$\\int_{a}^{b} f(x)\\ dx$$"
   ]
  },
  {
   "cell_type": "code",
   "execution_count": 5,
   "metadata": {},
   "outputs": [
    {
     "data": {
      "image/png": "[encoded data removed]",
      "text/latex": [
       "$$\\frac{1}{3}$$"
      ],
      "text/plain": [
       "1/3"
      ]
     },
     "execution_count": 5,
     "metadata": {},
     "output_type": "execute_result"
    }
   ],
   "source": [
    "integrate(x**2, (x, 0, 1))"
   ]
  },
  {
   "cell_type": "markdown",
   "metadata": {},
   "source": [
    "### Integral Indefinida"
   ]
  },
  {
   "cell_type": "markdown",
   "metadata": {},
   "source": [
    "$$\\int f(x)\\ dx$$"
   ]
  },
  {
   "cell_type": "code",
   "execution_count": 2,
   "metadata": {},
   "outputs": [
    {
     "data": {
      "image/png": "[encoded data removed]",
      "text/latex": [
       "$$\\frac{x^{3}}{3}$$"
      ],
      "text/plain": [
       " 3\n",
       "x \n",
       "──\n",
       "3 "
      ]
     },
     "execution_count": 2,
     "metadata": {},
     "output_type": "execute_result"
    }
   ],
   "source": [
    "integrate(x**2, x)"
   ]
  },
  {
   "cell_type": "markdown",
   "metadata": {},
   "source": [
    "$$\\int x^2\\ dx = \\frac{x^3}{3} + C$$"
   ]
  },
  {
   "cell_type": "code",
   "execution_count": 8,
   "metadata": {},
   "outputs": [
    {
     "data": {
      "image/png": "[encoded data removed]",
      "text/latex": [
       "$$x^{2}$$"
      ],
      "text/plain": [
       " 2\n",
       "x "
      ]
     },
     "execution_count": 8,
     "metadata": {},
     "output_type": "execute_result"
    }
   ],
   "source": [
    "diff(x**3 / 3)"
   ]
  },
  {
   "cell_type": "code",
   "execution_count": null,
   "metadata": {},
   "outputs": [],
   "source": []
  },
  {
   "cell_type": "markdown",
   "metadata": {},
   "source": [
    "## Exercícios"
   ]
  },
  {
   "cell_type": "markdown",
   "metadata": {},
   "source": [
    "1. Determine as seguintes integrais indefinidas:\n",
    "  - $\\int (x^3 - 4x^2 + 6x + 3$)\\ dx\n",
    "  - $\\int \\mathrm{sin}(x) \\ dx$\n",
    "  - $\\int e^x \\ dx$\n",
    "  - $\\int (\\frac{1}{x^2} + e^{x}) \\ dx$\n",
    "  - $\\int \\frac{1}{\\sqrt{1 - t^2}}\\ dt$\n",
    "  - $\\int \\mathrm{sin}(t)\\ dt$\n",
    "  - $\\int \\mathrm{cos}(t)\\ dt$"
   ]
  },
  {
   "cell_type": "markdown",
   "metadata": {},
   "source": [
    "1. Determine as seguintes integrais definidas:\n",
    "  - $\\int_{0}^{4} x^3\\ dx$\n",
    "  - $\\int_{0}^{4} (x^3 + 10)\\ dx$\n",
    "  - $\\int_{0}^{2} (t^4 - t)\\ dt$\n",
    "  - $\\int_{-5}^{5} x^3\\ dx$\n",
    "  - $\\int_{0}^{4} \\sqrt{x}\\ dx$\n",
    "  - $\\int_{0}^{2} \\sqrt{1 - t^3}\\ dt$\n",
    "  - $\\int_{-3}^{3} \\mathrm{sin}(x)\\ dx$\n",
    "  - $\\int_{-3}^{3} (\\mathrm{sin}(x)+\\mathrm{cos}(x))\\ dx$"
   ]
  },
  {
   "cell_type": "markdown",
   "metadata": {},
   "source": [
    "1. Formule uma regra geral para determinar as integrais indefinidas a seguir, sabendo que $n \\in \\mathbb{N}$:\n",
    "  - $\\int x^n \\ dx$\n",
    "  - $\\int e^{nx} \\ dx$\n",
    "  - $\\int \\frac{1}{x^n} \\ dx$\n",
    "  - $\\int \\mathrm{sin}(n x)\\ dx$"
   ]
  },
  {
   "cell_type": "markdown",
   "metadata": {},
   "source": [
    "## Conceituação Matemática"
   ]
  },
  {
   "cell_type": "markdown",
   "metadata": {},
   "source": [
    "*Integral Definida* --- Se $f$ é uma função contínua definida no intervalo $a \\leq x \\leq b$, dividimos o intervalo $[a, b]$ em $n$ subintervalos de comprimentos iguais $\\Delta x = (b - a)/ n$.\n",
    "\n",
    "Sejam $x_{0}, x_{1}, x_{2}, \\ldots, x_{n}$ (em que $x_{0} = a$ e $x_{n} = b$) as extremidades desses subintervalos, escolhemos os *pontos amostrais*  $x_{1}^{*}, x_{2}^{*}, x_{3}^{*}, \\ldots, x_{n}^{*}$ nesses subintervalos, tal que $x_{i}^{*}$ esteja no $i$-ésimo subintervalo $[x_{i - 1}, x_{i}]$. Então a integral definida de $f$ de $a$ a $b$} é\n",
    "$$\\int\\nolimits_{a}^{b} f(x)\\ dx = \\lim_{n\\to \\infty} \\sum_{i = 1}^{n} f(x_{i}^{*})\\ \\Delta x$$\n",
    "desde que este limite exista. Se o limite existir, diz-se que $f$ é integrável em $[a, b]$.\n",
    "\n",
    "A definição acima de integral se deve a *Bernhard Riemann* (1826 -- 1866). O símbolo $\\int$, o **sinal de integral** foi introduzido por *Leibniz*, um dos criadores do cálculo, para indicar que a integral é um limite de somas.\n",
    "\n",
    "\n",
    "Na notação $\\int\\nolimits_{a}^{b} f(x)\\ dx$:\n",
    "- $f(x)$ é o **integrando**,\n",
    "- $a$ e $b$ são os **limites de integração**,\n",
    "- $a$ é o **limite inferior**,\n",
    "- $b$ é o **limite superior**,\n",
    "- e $d x$ indica que $x$ é a **variável independente**."
   ]
  },
  {
   "cell_type": "markdown",
   "metadata": {},
   "source": [
    "A integral definida $\\int\\nolimits_{a}^{b} f(x)\\ dx$ é *um número*.\n",
    "\n",
    "A variável independente pode ser indicada de outros modos:\n",
    "$$\\int\\nolimits_{a}^{b} f(x)\\ dx\\qquad = \\qquad \\int\\nolimits_{a}^{b} f(t)\\ dt \\qquad = \\qquad \\int\\nolimits_{a}^{b} f(r)\\ dr$$\n",
    "\n",
    "O somatório\n",
    "$$\\sum_{i = 1}^{n} f(x_{i}^{*})\\ \\Delta x$$\n",
    "é chamado **soma de Riemann**, em homenagem ao autor desta definição de integral."
   ]
  },
  {
   "cell_type": "markdown",
   "metadata": {},
   "source": [
    "**Propriedades da Integral**\n",
    "\n",
    "A partir da definição de integral, tem-se que\n",
    "\n",
    "$$\\int\\nolimits_{a}^{b} f(x)\\, dx = - \\int\\nolimits_{b}^{a} f(x)\\, dx $$\n",
    "e que\n",
    "$$\\int\\nolimits_{a}^{a} f(x)\\, dx = 0$$\n",
    "pois se $a = b$, então $\\Delta x = 0$."
   ]
  },
  {
   "cell_type": "markdown",
   "metadata": {},
   "source": [
    "**Propriedades da Integral definida**\n",
    "\n",
    "$$\\int\\nolimits_{a}^{b} c\\, dx = c\\ (b - a)$$\n",
    "$$\\int\\nolimits_{a}^{b} c\\ f(x)\\, dx =  c \\int\\nolimits_{a}^{b} f(x)\\, dx \\qquad \\textrm{em que c é uma constante} $$\n",
    "$$\\int\\nolimits_{a}^{b} [f(x) + g(x)]\\, dx = \\int\\nolimits_{a}^{b} f(x)\\, dx  + \\int\\nolimits_{a}^{b} g(x)\\, dx $$\n",
    "$$ \\int\\nolimits_{a}^{b} [f(x) - g(x)]\\, dx = \\int\\nolimits_{a}^{b} f(x)\\, dx  - \\int\\nolimits_{a}^{b} g(x)\\, dx $$\n",
    "$$ \\int\\nolimits_{a}^{c} f(x)\\, dx + \\int\\nolimits_{c}^{b} f(x)\\, dx = \\int\\nolimits_{a}^{b} f(x)\\, dx $$"
   ]
  },
  {
   "cell_type": "markdown",
   "metadata": {},
   "source": [
    "#### Exercícios"
   ]
  },
  {
   "cell_type": "markdown",
   "metadata": {},
   "source": [
    "Utilizando as propriedades das integrais, determine:\n",
    "  \n",
    "  - $\\int_{0}^{1} (4 + 3 x^2)\\, dx$\n",
    "  - $\\int_{0}^{1} (x^{2} + 1)\\, dx$\n",
    "  - Se $\\int_{0}^{10} f(x)\\, d x = 17$ e $\\int_{0}^{8} f(x)\\, d x = 12$, calcule $\\int_{8}^{10} f(x)\\, d x$"
   ]
  },
  {
   "cell_type": "markdown",
   "metadata": {},
   "source": [
    "### O Teorema Fundamental do Cálculo"
   ]
  },
  {
   "cell_type": "markdown",
   "metadata": {},
   "source": [
    "**O Teorema Fundamental do Cálculo, Parte I**\n",
    "\n",
    "Se $f$ é contínua em $[a, b]$, então a função $g$ definida por\n",
    "\n",
    "$$g(x) = \\int\\nolimits_{a}^{x} f (t)\\, dt\\qquad\\qquad a \\leq x \\leq b$$\n",
    "\n",
    "é contínua em $[a, b]$, derivável em $(a, b)$ e\n",
    "\n",
    "$$g'(x) = f(x)$$"
   ]
  },
  {
   "cell_type": "markdown",
   "metadata": {},
   "source": [
    "**O Teorema Fundamental do Cálculo, Parte II**\n",
    "\n",
    "Se $f$ é contínua em $[a, b]$, então\n",
    "\n",
    "$$\\int\\nolimits_{a}^{b} f(x)\\, d x = F\\,(b) - F\\,(a)$$\n",
    "\n",
    "em que $F$ é qualquer primitiva de $f$, isto é, $F$ é uma função tal que $F\\, ' = f $"
   ]
  },
  {
   "cell_type": "markdown",
   "metadata": {},
   "source": [
    "## Integrais Indefinidas"
   ]
  },
  {
   "cell_type": "markdown",
   "metadata": {},
   "source": [
    "O Teorema Fundamental do Cálculo mostra uma conexão entre as integrais definidas e as primitivas de uma função. Introduziremos então o conceito de *integral indefinida* para indicar a ligação entre primitivas e integrais.\n",
    "\n",
    "- *Integral indefinida*: Por convenção, a primitiva de uma função $f$ é indicada pela notação $\\int f(x)\\, dx$. Ou seja,\n",
    "\n",
    "$$\\int f(x)\\, d x = F\\, (x)\\qquad\\qquad \\textrm{significa}\\qquad\\qquad F\\, ' (x) = f(x) $$\n",
    "\n",
    "- Deste modo, uma *integral indefinida* representa uma *família* de funções, em que as primitivas diferem pelo valor de uma constante $C$, como a seguir.\n",
    "\n",
    "$$\\int {x^2}\\, d x = {x^{3}\\over 3} + C\\qquad\\qquad\\textrm{pois}\\qquad\\qquad {d \\over {d x}}\\, \\left( {x^{3} \\over 3} + C \\right) = x^{2} $$\n",
    "\n",
    "- Existe assim uma diferença entre a integral definida e indefinida:\n",
    "    - a *integral definida* $\\int\\nolimits_{a}^{b} f(x)\\, dx$ é um *número*, enquanto\n",
    "    - a *integral indefinida* $\\int f(x)\\, d x$ é uma *família* de funções."
   ]
  },
  {
   "cell_type": "code",
   "execution_count": null,
   "metadata": {},
   "outputs": [],
   "source": []
  }
 ],
 "metadata": {
  "kernelspec": {
   "display_name": "Python 3",
   "language": "python",
   "name": "python3"
  },
  "language_info": {
   "codemirror_mode": {
    "name": "ipython",
    "version": 3
   },
   "file_extension": ".py",
   "mimetype": "text/x-python",
   "name": "python",
   "nbconvert_exporter": "python",
   "pygments_lexer": "ipython3",
   "version": "3.7.3"
  }
 },
 "nbformat": 4,
 "nbformat_minor": 4
}
