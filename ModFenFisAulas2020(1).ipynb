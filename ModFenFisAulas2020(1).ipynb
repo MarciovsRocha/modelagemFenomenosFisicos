{
 "cells": [
  {
   "cell_type": "markdown",
   "metadata": {},
   "source": [
    "# Modelagem de Fenômenos Físicos"
   ]
  },
  {
   "cell_type": "markdown",
   "metadata": {},
   "source": [
    "## Aula 1"
   ]
  },
  {
   "cell_type": "markdown",
   "metadata": {},
   "source": [
    "1. Apresentação da disciplina.\n",
    "2. Apresentação do professor e dos alunos.\n",
    "3. Perfil das profissões da *informática/computação*.\n",
    "4. Perfil do *cientista da computação*.\n",
    "5. Recursos a utilizar\n",
    "  - Linguagem Python\n",
    "  - Ambiente Jupyter\n",
    "6. TDE\n",
    "  - Cada aluno apresentará um notebook com as anotações das aulas"
   ]
  },
  {
   "cell_type": "markdown",
   "metadata": {},
   "source": [
    "## Aula 2"
   ]
  },
  {
   "cell_type": "markdown",
   "metadata": {},
   "source": [
    "1. Introdução ao ambiente *Jupyter*.\n",
    "1. Formatação de textos em *Markdown*:\n",
    "  - Títulos\n",
    "  - Itálico e negrito\n",
    "  - Listas e sublistas de tópicos\n",
    "  - Fórmulas matemáticas em *LaTex*/*MathJax*\n",
    "    - Fórmulas *in line*, *destacadas* (solução da equação quadrática)\n",
    "    - Comentários sobre TeX, LaTeX, MathJax, D. Knuth\n",
    "1. Exercício: cada aluno deve criar um notebook para a anotação das aulas."
   ]
  },
  {
   "cell_type": "markdown",
   "metadata": {},
   "source": [
    "1. Uso básico do *Python*\n",
    "  - Operações aritméticas\n",
    "  - Operações booleanas\n",
    "  - Operações com strings\n",
    "  - Operadores polimorfos: exemplo do operador +\n",
    "  - Variáveis\n",
    "    - pesoDeAluno, a\n",
    "  - Operações com valores e variáveis\n",
    "  - `type()`"
   ]
  },
  {
   "cell_type": "code",
   "execution_count": 12,
   "metadata": {},
   "outputs": [],
   "source": [
    "# Exercício feito em sala\n",
    "def condição_de_temperatura(x):\n",
    "    if x>=27:\n",
    "        return \"muito quente\"\n",
    "    elif 27 > x >= 22:\n",
    "        return \"quente\"\n",
    "    elif 15 <= x < 22:\n",
    "        return \"agradável\"\n",
    "    elif x < 15:\n",
    "        return \"frio\"\n"
   ]
  },
  {
   "cell_type": "code",
   "execution_count": 13,
   "metadata": {},
   "outputs": [
    {
     "data": {
      "text/plain": [
       "'muito quente'"
      ]
     },
     "execution_count": 13,
     "metadata": {},
     "output_type": "execute_result"
    }
   ],
   "source": [
    "condição_de_temperatura(38)"
   ]
  },
  {
   "cell_type": "code",
   "execution_count": 14,
   "metadata": {},
   "outputs": [],
   "source": [
    "# Exercício feito em sala: validação inadequada de parâmetro\n",
    "def funcao(x):\n",
    "    if x == 1 or x == -1:\n",
    "        return \"O valor de x não pode ser 1/-1.\"\n",
    "    else:\n",
    "        return 1 / (x**2 -1)"
   ]
  },
  {
   "cell_type": "code",
   "execution_count": 16,
   "metadata": {},
   "outputs": [
    {
     "data": {
      "text/plain": [
       "'O valor de x não pode ser 1/-1.'"
      ]
     },
     "execution_count": 16,
     "metadata": {},
     "output_type": "execute_result"
    }
   ],
   "source": [
    "funcao(1)"
   ]
  },
  {
   "cell_type": "code",
   "execution_count": 17,
   "metadata": {},
   "outputs": [],
   "source": [
    "# Exercício feito em sala: validação adequada de parâmetro\n",
    "def funcao(x):\n",
    "    if x == 1 or x == -1: # será gerada uma exceção\n",
    "        raise ValueError(\"O valor de x não pode ser -1 ou 1.\")\n",
    "    return 1 / (x**2 - 1)"
   ]
  },
  {
   "cell_type": "code",
   "execution_count": 18,
   "metadata": {},
   "outputs": [
    {
     "ename": "ValueError",
     "evalue": "O valor de x não pode ser -1 ou 1.",
     "output_type": "error",
     "traceback": [
      "\u001b[0;31m---------------------------------------------------------------------------\u001b[0m",
      "\u001b[0;31mValueError\u001b[0m                                Traceback (most recent call last)",
      "\u001b[0;32m<ipython-input-18-ecbcbf2e1f26>\u001b[0m in \u001b[0;36m<module>\u001b[0;34m()\u001b[0m\n\u001b[0;32m----> 1\u001b[0;31m \u001b[0mfuncao\u001b[0m\u001b[0;34m(\u001b[0m\u001b[0;36m1\u001b[0m\u001b[0;34m)\u001b[0m\u001b[0;34m\u001b[0m\u001b[0;34m\u001b[0m\u001b[0m\n\u001b[0m",
      "\u001b[0;32m<ipython-input-17-bce0b8c40fa7>\u001b[0m in \u001b[0;36mfuncao\u001b[0;34m(x)\u001b[0m\n\u001b[1;32m      2\u001b[0m \u001b[0;32mdef\u001b[0m \u001b[0mfuncao\u001b[0m\u001b[0;34m(\u001b[0m\u001b[0mx\u001b[0m\u001b[0;34m)\u001b[0m\u001b[0;34m:\u001b[0m\u001b[0;34m\u001b[0m\u001b[0;34m\u001b[0m\u001b[0m\n\u001b[1;32m      3\u001b[0m     \u001b[0;32mif\u001b[0m \u001b[0mx\u001b[0m \u001b[0;34m==\u001b[0m \u001b[0;36m1\u001b[0m \u001b[0;32mor\u001b[0m \u001b[0mx\u001b[0m \u001b[0;34m==\u001b[0m \u001b[0;34m-\u001b[0m\u001b[0;36m1\u001b[0m\u001b[0;34m:\u001b[0m\u001b[0;34m\u001b[0m\u001b[0;34m\u001b[0m\u001b[0m\n\u001b[0;32m----> 4\u001b[0;31m         \u001b[0;32mraise\u001b[0m \u001b[0mValueError\u001b[0m\u001b[0;34m(\u001b[0m\u001b[0;34m\"O valor de x não pode ser -1 ou 1.\"\u001b[0m\u001b[0;34m)\u001b[0m\u001b[0;34m\u001b[0m\u001b[0;34m\u001b[0m\u001b[0m\n\u001b[0m\u001b[1;32m      5\u001b[0m     \u001b[0;32mreturn\u001b[0m \u001b[0;36m1\u001b[0m \u001b[0;34m/\u001b[0m \u001b[0;34m(\u001b[0m\u001b[0mx\u001b[0m\u001b[0;34m**\u001b[0m\u001b[0;36m2\u001b[0m \u001b[0;34m-\u001b[0m \u001b[0;36m1\u001b[0m\u001b[0;34m)\u001b[0m\u001b[0;34m\u001b[0m\u001b[0;34m\u001b[0m\u001b[0m\n",
      "\u001b[0;31mValueError\u001b[0m: O valor de x não pode ser -1 ou 1."
     ]
    }
   ],
   "source": [
    "# este comando gera uma exceção.\n",
    "funcao(1)"
   ]
  },
  {
   "cell_type": "code",
   "execution_count": 19,
   "metadata": {},
   "outputs": [
    {
     "data": {
      "text/plain": [
       "-1.0"
      ]
     },
     "execution_count": 19,
     "metadata": {},
     "output_type": "execute_result"
    }
   ],
   "source": [
    "funcao(0)"
   ]
  },
  {
   "cell_type": "markdown",
   "metadata": {},
   "source": [
    "## Aula 3"
   ]
  },
  {
   "cell_type": "markdown",
   "metadata": {},
   "source": [
    "### Funções"
   ]
  },
  {
   "cell_type": "markdown",
   "metadata": {},
   "source": [
    "1. Conceito matemático de função\n",
    "  - Exemplos\n",
    "    - *em português*: `dobro de`; *em notação matemática*: $f(x) = 2x$; *tabelas*\n",
    "  - Domínio, imagem, codomínio\n",
    "  - Assinatura de função: $f: X \\longrightarrow Y$\n",
    "  - Conjuntos importantes\n",
    "    - $\\mathbb{Z}$ - numeros inteiros\n",
    "    - $\\mathbb{N}$ - numeros naturais\n",
    "    - $\\mathbb{Q}$ - numeros racionais\n",
    "    - $\\mathbb{R}$ - numeros reais\n",
    "    - $\\mathbb{C}$ - numeros complexos\n",
    "  - O ponto de vista computacional: Função como procedimento de cálculo.\n",
    "  - ***Definição de função***: Função $f: X \\longrightarrow Y$ é um processo de cálculo em que não há excessão no domínio $X$ e não há ambiguidade na imagem $\\mathrm{Im}(X) \\subseteq Y $.\n",
    "  - Contraexemplo de função: raiz quadrada\n"
   ]
  },
  {
   "cell_type": "markdown",
   "metadata": {},
   "source": [
    "### Exercícios 1"
   ]
  },
  {
   "cell_type": "markdown",
   "metadata": {},
   "source": [
    "1. Escreva uma função em *Python* que:\n",
    "  - Calcule a área de um quadrado.\n",
    "  - Calcule perímetro de um retângulo.\n",
    "  - Calcule a área de um triângulo.\n",
    "  - Calcule a área de um círculo.\n",
    "  - Calcule o perímetro de um círculo.\n",
    "  - Compute o valor do polinômio $p(x) = 2x^3 - 5x^2 + 1$.\n",
    "  - Compute o valor de *qualquer polinômio* do terceiro grau, dados os coeficientes da variàvel independente $x$.\n",
    "  \n",
    "  "
   ]
  },
  {
   "cell_type": "markdown",
   "metadata": {},
   "source": [
    "## Exercícios 2"
   ]
  },
  {
   "cell_type": "markdown",
   "metadata": {},
   "source": [
    "1. Escreva uma função em *Python* que:\n",
    "  - Dados $a$ e $b$, teste se $a$ é divisível por $b$.\n",
    "  - Dados dois números, retorne o maior deles.\n",
    "  - Dados três números, retorne o maior deles."
   ]
  },
  {
   "cell_type": "markdown",
   "metadata": {},
   "source": [
    "### Exercícios 3"
   ]
  },
  {
   "cell_type": "markdown",
   "metadata": {},
   "source": [
    "1. Determine o *domínio* e a *imagem* das seguintes funções em *Python*, expressando o *domínio* e a *imagem* como *conjuntos*.\n",
    "  - $g(x) = x^2, f(x) = \\frac{1}{x - 1}, f(x) = \\frac{1}{x^2 -1}$\n",
    "  - $f(x)=\\sqrt{x + 2}$, $g(x) = \\frac{1}{x^2 - x}$, $y = \\sqrt{x^2 - 4}$\n",
    "\n",
    "2. Implemente em *Python* cada uma das funções do exercício anterior, validando os valores de $x$ para assegurar que eles pertençam aos ***domínios*** das funções."
   ]
  },
  {
   "cell_type": "markdown",
   "metadata": {},
   "source": [
    "## Aula 4"
   ]
  },
  {
   "cell_type": "markdown",
   "metadata": {},
   "source": [
    "### Listas em *Python*"
   ]
  },
  {
   "cell_type": "markdown",
   "metadata": {},
   "source": [
    "1. Exemplos de *listas*\n",
    "  - $[2, 3, 1, 7]$\n",
    "  - $[\\textrm{\"pera\"}, \\textrm{\"uva\"}, \\textrm{\"maçã\"}]$\n",
    "  - $[1, \\textrm{\"pera\"}, 4, \\textrm{\"uva\"}, 2, \\textrm{\"maçã\"}]$\n",
    "  - $[(1, \\textrm{\"pera\"}), (4, \\textrm{\"uva\"}), (2, \\textrm{\"maçã\"})]$\n",
    "\n",
    "\n",
    "1. Operações com listas\n",
    "   - Acesso a elemento por posição: $[2, 3, 1, 7][2]$\n",
    "   - Atualização de elemento por posição: $[2, 3, 1, 7][2] = 99$\n",
    "   - Concatenação de listas: $[2, 3, 1, 7, 9] + [0, -1, 8]$"
   ]
  },
  {
   "cell_type": "markdown",
   "metadata": {},
   "source": [
    "### Como *iterar* sobre uma lista"
   ]
  },
  {
   "cell_type": "code",
   "execution_count": null,
   "metadata": {},
   "outputs": [],
   "source": [
    "for i in [4, 2, 7, 8, 3]:\n",
    "  print(2*i)"
   ]
  },
  {
   "cell_type": "code",
   "execution_count": null,
   "metadata": {},
   "outputs": [],
   "source": [
    "for i in range(5):\n",
    "  print(i)"
   ]
  },
  {
   "cell_type": "code",
   "execution_count": null,
   "metadata": {},
   "outputs": [],
   "source": [
    "for i in range(2, 5):\n",
    "  print(i)"
   ]
  },
  {
   "cell_type": "markdown",
   "metadata": {},
   "source": [
    "### Como somar os elementos de uma lista"
   ]
  },
  {
   "cell_type": "code",
   "execution_count": null,
   "metadata": {},
   "outputs": [],
   "source": [
    "acc = 0\n",
    "for i in [2, 3, 4, 5]:\n",
    "  acc = acc + i\n",
    "acc"
   ]
  },
  {
   "cell_type": "markdown",
   "metadata": {},
   "source": [
    "### Exercícios"
   ]
  },
  {
   "cell_type": "markdown",
   "metadata": {},
   "source": [
    "1. Escreva uma função em *Python* que:\n",
    "  - Multiplique os valores de uma lista passada como parâmetro.\n",
    "  - Dado $n$, some os valores da lista\n",
    "$[1, \\frac{1}{2}, \\frac{1}{3}, \\frac{1}{4}, \\cdots , \\frac{1}{n}]$.\n",
    "  - Calcule a soma dos termos da sequência\n",
    "$ 1, \\frac{1}{4}, \\frac{1}{9}, \\frac{1}{16}, \\frac{1}{25}$.\n",
    "  - Dado $n$, determine o valor da série ${1 \\over 2} + {1 \\over 2^2} + \\cdots + {1 \\over 2^{n}}$.\n",
    "  - Dado $n$, determine o valor da série $1 + {1 \\over 3} + {1 \\over 9} + {1 \\over 27} + \\cdots + {1 \\over 3^{n}}$.\n",
    "  - Calcule o *fatorial* de $n$, isto é, $n!$, para $n$ dado."
   ]
  },
  {
   "cell_type": "code",
   "execution_count": null,
   "metadata": {},
   "outputs": [],
   "source": []
  },
  {
   "cell_type": "markdown",
   "metadata": {},
   "source": [
    "## Aula dia 02/04/2020"
   ]
  },
  {
   "cell_type": "markdown",
   "metadata": {},
   "source": [
    "### *Utilizando o laço de repetição WHILE*"
   ]
  },
  {
   "cell_type": "code",
   "execution_count": 6,
   "metadata": {},
   "outputs": [
    {
     "name": "stdout",
     "output_type": "stream",
     "text": [
      "A Soma eh 15\n"
     ]
    }
   ],
   "source": [
    "contador = 1\n",
    "soma = 0\n",
    "while contador <= 5:\n",
    "    soma += contador\n",
    "    contador += 1\n",
    "print(f\"A Soma eh {soma}\")"
   ]
  },
  {
   "cell_type": "markdown",
   "metadata": {},
   "source": [
    "### Modelo Imperativo\n",
    "* Estado Mutável\n",
    "* Comandos em Sequência"
   ]
  },
  {
   "cell_type": "code",
   "execution_count": null,
   "metadata": {},
   "outputs": [],
   "source": []
  }
 ],
 "metadata": {
  "kernelspec": {
   "display_name": "Python 3",
   "language": "python",
   "name": "python3"
  },
  "language_info": {
   "codemirror_mode": {
    "name": "ipython",
    "version": 3
   },
   "file_extension": ".py",
   "mimetype": "text/x-python",
   "name": "python",
   "nbconvert_exporter": "python",
   "pygments_lexer": "ipython3",
   "version": "3.7.4"
  }
 },
 "nbformat": 4,
 "nbformat_minor": 4
}
