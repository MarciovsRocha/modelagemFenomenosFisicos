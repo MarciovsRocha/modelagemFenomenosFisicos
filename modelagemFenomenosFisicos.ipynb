{
 "cells": [
  {
   "cell_type": "markdown",
   "metadata": {},
   "source": [
    "# <b><i>Modelagem de Fenômenos Fisicos</i></b>"
   ]
  },
  {
   "cell_type": "markdown",
   "metadata": {},
   "source": [
    "## <i>Aula 21/02/2020</i>"
   ]
  },
  {
   "cell_type": "markdown",
   "metadata": {},
   "source": [
    "### Formatação de Texto\n",
    "\n",
    "Como exemplo de matemática, teremos uma equação: $f(x) = 2x+p$, também teremos uma raiz quadrada $\\sqrt{x + 2 a b}$. Também teremos uma fração $\\frac{x+1}{x-1}$. Escreveremos também o teorema de pitágoras: $$a^2 = c^2 + c^2$$"
   ]
  },
  {
   "cell_type": "markdown",
   "metadata": {},
   "source": [
    "Fórmula de Báskhara: $$x_{1,2} =\\frac{-b \\pm \\sqrt{b^2 - 4 a c}}{2a}$$"
   ]
  },
  {
   "cell_type": "markdown",
   "metadata": {},
   "source": [
    "### Funções em PYTHON"
   ]
  },
  {
   "cell_type": "code",
   "execution_count": 1,
   "metadata": {},
   "outputs": [
    {
     "name": "stdout",
     "output_type": "stream",
     "text": [
      "10\n",
      "10\n"
     ]
    }
   ],
   "source": [
    "def dobro(x):\n",
    "    return 2*x\n",
    "def soma(x,y):\n",
    "    return x+y\n",
    "\n",
    "print(soma(3,7))\n",
    "print(dobro(5))"
   ]
  },
  {
   "cell_type": "markdown",
   "metadata": {},
   "source": [
    "# *Aula 27/02/2020* \n",
    "## *Funções*"
   ]
  },
  {
   "cell_type": "code",
   "execution_count": 7,
   "metadata": {},
   "outputs": [],
   "source": [
    "def quadrado(x):  # def = define \n",
    "    return x**2\n",
    "\n",
    "def polinomio(x):\n",
    "    return x**3 - 2 * x**2 + 4"
   ]
  },
  {
   "cell_type": "code",
   "execution_count": 4,
   "metadata": {},
   "outputs": [
    {
     "data": {
      "text/plain": [
       "9"
      ]
     },
     "execution_count": 4,
     "metadata": {},
     "output_type": "execute_result"
    }
   ],
   "source": [
    "quadrado(-3) # chamando função para realizar o caculo"
   ]
  },
  {
   "cell_type": "code",
   "execution_count": 9,
   "metadata": {},
   "outputs": [
    {
     "data": {
      "text/plain": [
       "804"
      ]
     },
     "execution_count": 9,
     "metadata": {},
     "output_type": "execute_result"
    }
   ],
   "source": [
    "polinomio(10) # chamando funcao para realizar calculo"
   ]
  },
  {
   "cell_type": "code",
   "execution_count": 16,
   "metadata": {},
   "outputs": [],
   "source": [
    "def voz(animal):\n",
    "    if ((animal == \"cachorro\") or (animal == \"Cachorro\")):\n",
    "        return \"au-au\"\n",
    "    elif ((animal == \"gato\") or (animal == \"Gato\")):\n",
    "        return \"miau\"\n",
    "    else:\n",
    "        return \"Animal desconhecido\""
   ]
  },
  {
   "cell_type": "code",
   "execution_count": 12,
   "metadata": {},
   "outputs": [
    {
     "name": "stdout",
     "output_type": "stream",
     "text": [
      "miau\n"
     ]
    }
   ],
   "source": [
    "voz(\"gato\")"
   ]
  },
  {
   "cell_type": "code",
   "execution_count": 13,
   "metadata": {},
   "outputs": [
    {
     "name": "stdout",
     "output_type": "stream",
     "text": [
      "au-au\n"
     ]
    }
   ],
   "source": [
    "voz(\"cachorro\")"
   ]
  },
  {
   "cell_type": "code",
   "execution_count": 15,
   "metadata": {},
   "outputs": [
    {
     "name": "stdout",
     "output_type": "stream",
     "text": [
      "Animal desconhecido\n"
     ]
    }
   ],
   "source": [
    "voz(\"Bârde\")"
   ]
  },
  {
   "cell_type": "code",
   "execution_count": 29,
   "metadata": {},
   "outputs": [],
   "source": [
    "def temperatura(temp):\n",
    "    if ((temp >= 15) and (temp <= 22)):\n",
    "        return \"agradavel\"\n",
    "    elif (temp < 11):\n",
    "        return \"muito frio!\"\n",
    "    elif((temp > 22) and (temp <= 27)):\n",
    "        return \"quente\"\n",
    "    elif temp > 28:\n",
    "        return \"muito quente!\"\n",
    "    elif temp < 15:\n",
    "        return \"frio!\"\n",
    "    "
   ]
  },
  {
   "cell_type": "code",
   "execution_count": 30,
   "metadata": {},
   "outputs": [
    {
     "data": {
      "text/plain": [
       "'muito frio!'"
      ]
     },
     "execution_count": 30,
     "metadata": {},
     "output_type": "execute_result"
    }
   ],
   "source": [
    "temperatura(1)"
   ]
  },
  {
   "cell_type": "code",
   "execution_count": null,
   "metadata": {},
   "outputs": [],
   "source": [
    "def f(x):\n",
    "    if type(x) != int:\n",
    "        print(\"Valor inserido incompatível\")\n",
    "    elif x == 1 or x == (-1):\n",
    "        print(\"valor inserido incompatível\")\n",
    "    else:\n",
    "        return (1 / (x**2 - 1) ) \n",
    "\n",
    "x = input(\"Digite o valor: \")\n",
    "f(x)"
   ]
  },
  {
   "cell_type": "markdown",
   "metadata": {},
   "source": [
    "# *Aula 28/02/2020*"
   ]
  },
  {
   "cell_type": "markdown",
   "metadata": {},
   "source": [
    "## *Funções*"
   ]
  },
  {
   "cell_type": "code",
   "execution_count": 4,
   "metadata": {},
   "outputs": [],
   "source": [
    "def quadrado(x):\n",
    "    return x**2"
   ]
  },
  {
   "cell_type": "code",
   "execution_count": 5,
   "metadata": {},
   "outputs": [
    {
     "data": {
      "text/plain": [
       "16"
      ]
     },
     "execution_count": 5,
     "metadata": {},
     "output_type": "execute_result"
    }
   ],
   "source": [
    "quadrado(4)"
   ]
  },
  {
   "cell_type": "code",
   "execution_count": 6,
   "metadata": {},
   "outputs": [],
   "source": [
    "desconto = 0.8\n",
    "def preco_do_produto(valor, desconto):\n",
    "    return valor * desconto\n"
   ]
  },
  {
   "cell_type": "code",
   "execution_count": 7,
   "metadata": {},
   "outputs": [
    {
     "data": {
      "text/plain": [
       "40.0"
      ]
     },
     "execution_count": 7,
     "metadata": {},
     "output_type": "execute_result"
    }
   ],
   "source": [
    "preco_do_produto(50,desconto)"
   ]
  },
  {
   "cell_type": "markdown",
   "metadata": {},
   "source": [
    "#### Tudo oque uma função precisa deve ser passado como parâmetro, para que o resultado do cálculo seja completamente previsível. Parâmetros encapsulam uma ideia, uma função que opera somente com parâmetros esta função está encapsulada, **nunca use variáveis globais**."
   ]
  },
  {
   "cell_type": "markdown",
   "metadata": {},
   "source": [
    "#### utiliza-se o conceito de tabela/lista/array/matriz para obter-se um resultado imprevisível matematicamente por meio de uma função"
   ]
  },
  {
   "cell_type": "markdown",
   "metadata": {},
   "source": [
    "#### conceito de função: para ser uma função no domínio não deve haver excessão e no codomínio não deve haver ambiguidade"
   ]
  },
  {
   "cell_type": "markdown",
   "metadata": {},
   "source": [
    "#### *Dada a função $f(x) = x^2$*\n",
    "    * Domínio = Conjunto dos Números reais\n",
    "    * Imagem = Conjutno dos números reais não negativos"
   ]
  },
  {
   "cell_type": "markdown",
   "metadata": {},
   "source": [
    "Dada a raiz quadrada $\\sqrt{y}$ para transformá-la em função deve-se decompor em 2 funções $f_1: \\mathbb{R}^{\\geq 0} \\Rightarrow \\mathbb{R}^{+}$ e $f_2: \\mathbb{R}^{\\leq 0} \\Rightarrow \\mathbb{R}^-$"
   ]
  },
  {
   "cell_type": "markdown",
   "metadata": {},
   "source": [
    "Dada a função: $f(x,y) = x + 2y$ escrevemos a sua assinatura da seguinte forma $f:\\mathbb{R} * \\mathbb{R}$, onde $\\mathbb{R}*\\mathbb{R}$ é um produto cartesiano, ou seja um conjunto de pares"
   ]
  },
  {
   "cell_type": "markdown",
   "metadata": {},
   "source": [
    "### *Lista em python*"
   ]
  },
  {
   "cell_type": "code",
   "execution_count": 10,
   "metadata": {},
   "outputs": [],
   "source": [
    "lista = [3, 2, -1, 5, 2, 8]"
   ]
  },
  {
   "cell_type": "code",
   "execution_count": 14,
   "metadata": {},
   "outputs": [
    {
     "name": "stdout",
     "output_type": "stream",
     "text": [
      "[3, 2, -1, 5, 2, 8]\n",
      "-1\n",
      "2\n"
     ]
    }
   ],
   "source": [
    "print(lista)\n",
    "print(lista[2])\n",
    "print(lista[4])"
   ]
  },
  {
   "cell_type": "code",
   "execution_count": 15,
   "metadata": {},
   "outputs": [],
   "source": [
    "lista1 = [1, 4, 6, 6, 8]"
   ]
  },
  {
   "cell_type": "code",
   "execution_count": 16,
   "metadata": {},
   "outputs": [
    {
     "name": "stdout",
     "output_type": "stream",
     "text": [
      "[3, 2, -1, 5, 2, 8]\n",
      "[1, 4, 6, 6, 8]\n",
      "[3, 2, -1, 5, 2, 8, 1, 4, 6, 6, 8]\n"
     ]
    }
   ],
   "source": [
    "lista2 = lista + lista1\n",
    "print(lista)\n",
    "print(lista1)\n",
    "print(lista2)"
   ]
  },
  {
   "cell_type": "markdown",
   "metadata": {},
   "source": [
    "# *Aula 05/03/2020*"
   ]
  },
  {
   "cell_type": "markdown",
   "metadata": {},
   "source": [
    "### *Exercícios propostos*"
   ]
  },
  {
   "cell_type": "code",
   "execution_count": null,
   "metadata": {},
   "outputs": [],
   "source": [
    "import math\n",
    "# função para calcular a área de um quadrado\n",
    "def calcAreaQuadrado(lado1, lado2: int):\n",
    "    if lado1 <= 0 or lado2 <=0:\n",
    "        print(\"Tipo de valor inserido eh imcompativel\")\n",
    "    else:\n",
    "        return lado1 * lado2\n",
    "\n",
    "# função para calcular o perímetro de um retângulo\n",
    "def calcPerimetroRetangulo(lado1, lado2: int):\n",
    "    if lado1 <= 0 or lado2 <= 0:\n",
    "        print(\"Tipo de valor inserido eh imcompativel\")\n",
    "    else:\n",
    "        return lado1**2 + lado2**2 \n",
    "\n",
    "# função para calcular a área de uma circunferência\n",
    "def calcAreaCirculo(r):\n",
    "    if r <= 0:\n",
    "        print(\"Valor inserido incorreto\")\n",
    "    else:\n",
    "        return (math.pi * r ** 2)\n",
    "\n",
    "# função para calcular perímetro de um círculo\n",
    "def calcPerimetroCirculo(r):\n",
    "    if r <= 0:\n",
    "        print(\"Valor inserido incorreto\")\n",
    "    else:\n",
    "        return 2 * math.pi * r\n",
    "\n",
    "# função para calcular o valor do polinômio definido\n",
    "def calcPolinomioDef(x: int):\n",
    "    return ((2*x**3) - (5*x**2)) + 1\n",
    "\n",
    "# função para calcular um polinômio de 3º grau\n",
    "def calcPolinomio(a,b,c,d,x: int):\n",
    "    if a == 0:\n",
    "        print(\"Valor inserido incorreto\")\n",
    "    else:\n",
    "        return (a*x**3) + (b*x**2) + (c*x) + d\n",
    "    \n",
    "# função para calcular a área do triângulo com a fórmula de herão\n",
    "def calcAreaTriangulo(a,b,c: int):\n",
    "    if a <=0 or b <=0 or c <=0:\n",
    "        print(\"Valor inserido incorreto\")\n",
    "    else:\n",
    "        p = (a+b+c)/2\n",
    "        return math.sqrt((p*(p-a)*(p-b)*(p-c)))\n",
    "    \n",
    "# função para mostrar o número maior\n",
    "def mostrarNumeroMaior(a,b: int):\n",
    "    if a == b:\n",
    "        print(f\"São iguais {a} = {b}\")\n",
    "    elif a <  b:\n",
    "        print(f\"O primeiro numero eh maior {a}\")\n",
    "    print(f\"O segundo numero eh maior {b}\")\n",
    "    \n",
    "# função para retornar o maio de3 números\n",
    "def comparaTresNumeros(a,b,c: int):\n",
    "    if a < b and a < c:\n",
    "        print(f\"O maior numero eh {a}\")\n",
    "    elif b < a and b < c:\n",
    "        print(f\"O maior numero eh {b}\")\n",
    "    elif c < a and c < b:\n",
    "        print(f\"O maior numero eh {c}\")\n",
    "    else:\n",
    "        print(f\"Os numeros sao iguais {a} = {b} = {c}\")\n",
    "        \n",
    "        "
   ]
  },
  {
   "cell_type": "markdown",
   "metadata": {},
   "source": [
    "# *Aula 06/03/2020*"
   ]
  },
  {
   "cell_type": "markdown",
   "metadata": {},
   "source": [
    "## *Determine o Domínio e a Imagem das funções*"
   ]
  },
  {
   "cell_type": "markdown",
   "metadata": {},
   "source": [
    "$g(x)=x^2$"
   ]
  },
  {
   "cell_type": "markdown",
   "metadata": {},
   "source": [
    "$dom(g)=\\{\\mathbb{R}\\}$"
   ]
  },
  {
   "cell_type": "markdown",
   "metadata": {},
   "source": [
    "$im(g)=\\{x | x \\in \\mathbb{R} \\wedge x \\neq 1 \\wedge x \\neq -1\\}$"
   ]
  },
  {
   "cell_type": "markdown",
   "metadata": {},
   "source": [
    "$y(x) = \\sqrt{x^2-4}$"
   ]
  },
  {
   "cell_type": "markdown",
   "metadata": {},
   "source": [
    "$dom(y)=\\{x | x \\in \\mathbb{R} \\wedge (-2 \\geq x \\geq 2)\\}$"
   ]
  },
  {
   "cell_type": "markdown",
   "metadata": {},
   "source": [
    "$im(y)=\\{x|x \\in \\mathbb{R} \\wedge x \\gt 0\\}$"
   ]
  },
  {
   "cell_type": "markdown",
   "metadata": {},
   "source": [
    "$f(x)=\\sqrt{x+2}$"
   ]
  },
  {
   "cell_type": "markdown",
   "metadata": {},
   "source": [
    "$dom(f)=\\{x | x \\in \\mathbb{R} \\wedge x \\geq -2\\}$"
   ]
  },
  {
   "cell_type": "markdown",
   "metadata": {},
   "source": [
    "$im(f)=\\{x | x \\in \\mathbb{R} \\wedge x \\geq 0 \\}$"
   ]
  },
  {
   "cell_type": "code",
   "execution_count": 3,
   "metadata": {},
   "outputs": [
    {
     "name": "stdout",
     "output_type": "stream",
     "text": [
      "5\n",
      "1\n",
      "2\n",
      "-7\n",
      "0\n"
     ]
    }
   ],
   "source": [
    "for i in [5,1,2,-7,0]:\n",
    "    print(i)"
   ]
  },
  {
   "cell_type": "code",
   "execution_count": 5,
   "metadata": {},
   "outputs": [
    {
     "name": "stdout",
     "output_type": "stream",
     "text": [
      "C\n",
      "i\n",
      "ê\n",
      "n\n",
      "c\n",
      "i\n",
      "a\n",
      " \n",
      "d\n",
      "a\n",
      " \n",
      "C\n",
      "o\n",
      "m\n",
      "p\n",
      "u\n",
      "t\n",
      "a\n",
      "ç\n",
      "ã\n",
      "o\n"
     ]
    }
   ],
   "source": [
    "for s in \"Ciência da Computação\":\n",
    "    print(s)"
   ]
  },
  {
   "cell_type": "code",
   "execution_count": 16,
   "metadata": {},
   "outputs": [
    {
     "name": "stdout",
     "output_type": "stream",
     "text": [
      "0\n",
      "1\n",
      "2\n",
      "3\n",
      "4\n"
     ]
    }
   ],
   "source": [
    "for j in range(5):\n",
    "    print(j)"
   ]
  },
  {
   "cell_type": "markdown",
   "metadata": {},
   "source": [
    "$1\\div{n}$"
   ]
  },
  {
   "cell_type": "code",
   "execution_count": 25,
   "metadata": {},
   "outputs": [
    {
     "data": {
      "text/plain": [
       "[1.0,\n",
       " 0.5,\n",
       " 0.25,\n",
       " 0.125,\n",
       " 0.0625,\n",
       " 0.03125,\n",
       " 0.015625,\n",
       " 0.0078125,\n",
       " 0.00390625,\n",
       " 0.001953125,\n",
       " 0.0009765625,\n",
       " 0.00048828125,\n",
       " 0.000244140625,\n",
       " 0.0001220703125,\n",
       " 6.103515625e-05,\n",
       " 3.0517578125e-05,\n",
       " 1.52587890625e-05,\n",
       " 7.62939453125e-06,\n",
       " 3.814697265625e-06,\n",
       " 1.9073486328125e-06,\n",
       " 9.5367431640625e-07]"
      ]
     },
     "execution_count": 25,
     "metadata": {},
     "output_type": "execute_result"
    }
   ],
   "source": [
    "[1/(2**n) for n in range(0,21)]"
   ]
  },
  {
   "cell_type": "code",
   "execution_count": 27,
   "metadata": {},
   "outputs": [
    {
     "data": {
      "text/plain": [
       "[1.0,\n",
       " 0.25,\n",
       " 0.1111111111111111,\n",
       " 0.0625,\n",
       " 0.04,\n",
       " 0.027777777777777776,\n",
       " 0.02040816326530612,\n",
       " 0.015625,\n",
       " 0.012345679012345678,\n",
       " 0.01]"
      ]
     },
     "execution_count": 27,
     "metadata": {},
     "output_type": "execute_result"
    }
   ],
   "source": [
    "[1/n**2 for n in range(1,11)]"
   ]
  },
  {
   "cell_type": "code",
   "execution_count": 28,
   "metadata": {},
   "outputs": [
    {
     "data": {
      "text/plain": [
       "[2.0,\n",
       " 1.0,\n",
       " 0.6666666666666666,\n",
       " 0.5,\n",
       " 0.4,\n",
       " 0.3333333333333333,\n",
       " 0.2857142857142857,\n",
       " 0.25,\n",
       " 0.2222222222222222,\n",
       " 0.2]"
      ]
     },
     "execution_count": 28,
     "metadata": {},
     "output_type": "execute_result"
    }
   ],
   "source": [
    "[1/n*2 for n in range(1,11)]"
   ]
  },
  {
   "cell_type": "code",
   "execution_count": 29,
   "metadata": {},
   "outputs": [
    {
     "data": {
      "text/plain": [
       "[1.0,\n",
       " 0.5,\n",
       " 0.3333333333333333,\n",
       " 0.25,\n",
       " 0.2,\n",
       " 0.16666666666666666,\n",
       " 0.14285714285714285,\n",
       " 0.125,\n",
       " 0.1111111111111111,\n",
       " 0.1]"
      ]
     },
     "execution_count": 29,
     "metadata": {},
     "output_type": "execute_result"
    }
   ],
   "source": [
    "[1/n for n in range(1,11)]"
   ]
  },
  {
   "cell_type": "code",
   "execution_count": 30,
   "metadata": {},
   "outputs": [
    {
     "data": {
      "text/plain": [
       "[1.0, 0.5, 0.25, 0.125, 0.0625]"
      ]
     },
     "execution_count": 30,
     "metadata": {},
     "output_type": "execute_result"
    }
   ],
   "source": [
    "def calc(x):\n",
    "    return[1/2**i for i in range(0,x)]\n",
    "calc(5)"
   ]
  },
  {
   "cell_type": "code",
   "execution_count": 34,
   "metadata": {},
   "outputs": [
    {
     "data": {
      "text/plain": [
       "[5, 10, 15, 20]"
      ]
     },
     "execution_count": 34,
     "metadata": {},
     "output_type": "execute_result"
    }
   ],
   "source": [
    "def calc2(n):\n",
    "    return[n*i for i in range(1,5)]\n",
    "calc2(5)"
   ]
  },
  {
   "cell_type": "code",
   "execution_count": null,
   "metadata": {},
   "outputs": [],
   "source": []
  }
 ],
 "metadata": {
  "kernelspec": {
   "display_name": "Python 3",
   "language": "python",
   "name": "python3"
  }
 },
 "nbformat": 4,
 "nbformat_minor": 4
}
