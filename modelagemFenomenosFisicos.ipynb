{
 "cells": [
  {
   "cell_type": "markdown",
   "metadata": {},
   "source": [
    "# <b><i>Modelagem de Fenômenos Fisicos</i></b>"
   ]
  },
  {
   "cell_type": "markdown",
   "metadata": {},
   "source": [
    "## <i>Aula 21/02/2020</i>"
   ]
  },
  {
   "cell_type": "markdown",
   "metadata": {},
   "source": [
    "### Formatação de Texto\n",
    "\n",
    "Como exemplo de matemática, teremos uma equação: $f(x) = 2x+p$, também teremos uma raiz quadrada $\\sqrt{x + 2 a b}$. Também teremos uma fração $\\frac{x+1}{x-1}$. Escreveremos também o teorema de pitágoras: $$a^2 = c^2 + c^2$$"
   ]
  },
  {
   "cell_type": "markdown",
   "metadata": {},
   "source": [
    "Fórmula de Báskhara: $$x_{1,2} =\\frac{-b \\pm \\sqrt{b^2 - 4 a c}}{2a}$$"
   ]
  },
  {
   "cell_type": "markdown",
   "metadata": {},
   "source": [
    "### Funções en PYTHON"
   ]
  },
  {
   "cell_type": "code",
   "execution_count": null,
   "metadata": {},
   "outputs": [],
   "source": [
    "def dobro(x):\n",
    "    return 2*x\n",
    "def soma(x,y):\n",
    "    return x+y\n",
    "\n",
    "print(soma(3,7))\n",
    "print(dobro(5))"
   ]
  }
 ],
 "metadata": {
  "kernelspec": {
   "display_name": "Python 3",
   "language": "python",
   "name": "python3"
  },
  "language_info": {
   "codemirror_mode": {
    "name": "ipython",
    "version": 3
   },
   "file_extension": ".py",
   "mimetype": "text/x-python",
   "name": "python",
   "nbconvert_exporter": "python",
   "pygments_lexer": "ipython3",
   "version": "3.7.4"
  }
 },
 "nbformat": 4,
 "nbformat_minor": 4
}
